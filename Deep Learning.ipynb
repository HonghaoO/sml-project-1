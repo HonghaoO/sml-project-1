{
 "cells": [
  {
   "cell_type": "code",
   "execution_count": 1,
   "id": "503eddeb",
   "metadata": {},
   "outputs": [],
   "source": [
    "import torch\n",
    "import json\n",
    "import numpy as np\n",
    "import math\n",
    "import torch.nn as nn\n",
    "import torch.optim as optim\n",
    "from torch.utils.data import Dataset,  DataLoader\n",
    "from torch import Tensor\n",
    "\n",
    "from sklearn.model_selection import train_test_split\n",
    "from sklearn.metrics import f1_score, classification_report, confusion_matrix\n",
    "from sklearn import metrics\n",
    "import pandas as pd\n"
   ]
  },
  {
   "cell_type": "code",
   "execution_count": 2,
   "id": "7b73861e",
   "metadata": {},
   "outputs": [
    {
     "name": "stdout",
     "output_type": "stream",
     "text": [
      "122584 3500\n"
     ]
    }
   ],
   "source": [
    "with open('dataset/set1_human.json') as f:\n",
    "    set1_human = json.load(f)\n",
    "\n",
    "with open('dataset/set1_machine.json') as f:\n",
    "    set1_machine = json.load(f) \n",
    "\n",
    "print(len(set1_human), len(set1_machine))"
   ]
  },
  {
   "cell_type": "code",
   "execution_count": 3,
   "id": "78475e3a",
   "metadata": {},
   "outputs": [],
   "source": [
    "with open('dataset/test.json') as f:\n",
    "    testing_set = json.load(f) "
   ]
  },
  {
   "cell_type": "code",
   "execution_count": 4,
   "id": "cf8d994d",
   "metadata": {},
   "outputs": [],
   "source": [
    "for data in set1_human:\n",
    "    data['label'] = 1.0\n",
    "for data in set1_machine:\n",
    "    data['label'] = 0.0"
   ]
  },
  {
   "cell_type": "code",
   "execution_count": 5,
   "id": "499e063c",
   "metadata": {},
   "outputs": [],
   "source": [
    "human_labels = np.ones(len(set1_human))\n",
    "machine_labels = np.zeros(len(set1_machine))"
   ]
  },
  {
   "cell_type": "code",
   "execution_count": 7,
   "id": "12670fa2",
   "metadata": {},
   "outputs": [
    {
     "name": "stdout",
     "output_type": "stream",
     "text": [
      "113475 12609\n"
     ]
    }
   ],
   "source": [
    "data = set1_human + set1_machine\n",
    "labels = np.concatenate([human_labels, machine_labels])\n",
    "train_data, test_data, _, _ = train_test_split(data, labels, test_size=0.1, stratify=labels)\n",
    "print(len(train_data), len(test_data))"
   ]
  },
  {
   "cell_type": "code",
   "execution_count": 8,
   "id": "36fed6bf",
   "metadata": {},
   "outputs": [],
   "source": [
    "max_len = 256 \n",
    "batch_size = 256 \n",
    "\n",
    "class MyDataset(Dataset):\n",
    "    def __init__(self, data):\n",
    "        self.data = data\n",
    "    \n",
    "    def __len__(self):\n",
    "        return len(self.data)\n",
    "\n",
    "    def __getitem__(self, idx):\n",
    "\n",
    "        text = self.data[idx]['txt'][:max_len]\n",
    "        text_len = len(text)\n",
    "        text = torch.tensor(text)\n",
    "        if text_len < max_len:\n",
    "            text = torch.nn.functional.pad(text, (0, max_len - text_len), \"constant\", 0)\n",
    "        label = torch.tensor(self.data[idx]['label'])\n",
    "\n",
    "        return text, label"
   ]
  },
  {
   "cell_type": "code",
   "execution_count": 9,
   "id": "22876ec7",
   "metadata": {},
   "outputs": [],
   "source": [
    "train_dataset = MyDataset(train_data)\n",
    "train_loader = DataLoader(train_dataset, batch_size=batch_size, shuffle=True)\n",
    "\n",
    "test_dataset = MyDataset(test_data)\n",
    "test_loader = DataLoader(test_dataset, batch_size=batch_size, shuffle=False)"
   ]
  },
  {
   "cell_type": "code",
   "execution_count": 10,
   "id": "49049e9a",
   "metadata": {},
   "outputs": [],
   "source": [
    "class Classifier(nn.Module):\n",
    "    def __init__(self, vocab_size, emb_size, hidden_size1, hidden_size2):\n",
    "        super(Classifier, self).__init__()\n",
    "\n",
    "        self.embedding = nn.Embedding(vocab_size, emb_size)\n",
    "\n",
    "        self.classifier = nn.Sequential(\n",
    "            nn.Linear(emb_size, hidden_size1),\n",
    "            nn.ReLU(),\n",
    "            nn.Linear(hidden_size1, hidden_size2),\n",
    "            nn.ReLU(),\n",
    "            nn.Linear(hidden_size2, 1),\n",
    "        )\n",
    "\n",
    "    def forward(self, text):\n",
    "        \"\"\" text: (batch_size, max_len) \"\"\"\n",
    "        # i am a student\n",
    "        # i       [....]\n",
    "        # am      [....]\n",
    "        # a       [....]\n",
    "        # student [....]\n",
    "        #         [    ]\n",
    "        text_emb = self.embedding(text) # (batch_size, max_len, emb_size)\n",
    "        text_emb = text_emb.mean(dim=1) # (batch_size, emb_size)\n",
    "        output = self.classifier(text_emb)\n",
    "        return output.squeeze() # from (batch_size, 1) to (batch_size,)\n"
   ]
  },
  {
   "cell_type": "code",
   "execution_count": 11,
   "id": "aed30dfe",
   "metadata": {
    "scrolled": false
   },
   "outputs": [
    {
     "name": "stdout",
     "output_type": "stream",
     "text": [
      "Epoch 1/10, Train Loss: 0.0496, Test Loss: 0.0391, Train F1: 0.6737, Test F1: 0.6980\n",
      "Epoch 2/10, Train Loss: 0.0357, Test Loss: 0.0370, Train F1: 0.7461, Test F1: 0.7803\n",
      "Epoch 3/10, Train Loss: 0.0299, Test Loss: 0.0330, Train F1: 0.7802, Test F1: 0.7325\n",
      "Epoch 4/10, Train Loss: 0.0263, Test Loss: 0.0297, Train F1: 0.7981, Test F1: 0.8094\n",
      "Epoch 5/10, Train Loss: 0.0235, Test Loss: 0.0308, Train F1: 0.8124, Test F1: 0.8070\n",
      "Epoch 6/10, Train Loss: 0.0216, Test Loss: 0.0309, Train F1: 0.8242, Test F1: 0.8192\n",
      "Epoch 7/10, Train Loss: 0.0197, Test Loss: 0.0309, Train F1: 0.8321, Test F1: 0.8098\n",
      "Epoch 8/10, Train Loss: 0.0183, Test Loss: 0.0333, Train F1: 0.8420, Test F1: 0.8133\n",
      "Epoch 9/10, Train Loss: 0.0171, Test Loss: 0.0349, Train F1: 0.8431, Test F1: 0.8198\n",
      "Epoch 10/10, Train Loss: 0.0153, Test Loss: 0.0345, Train F1: 0.8563, Test F1: 0.7907\n"
     ]
    }
   ],
   "source": [
    "num_epochs = 10\n",
    "device = torch.device('cuda' if torch.cuda.is_available() else 'cpu')\n",
    "\n",
    "\n",
    "model = Classifier(5000, 256, 150, 100).to(device)\n",
    "\n",
    "optimizer = optim.Adam(model.parameters(), lr=1e-3)\n",
    "\n",
    "criterion = nn.BCEWithLogitsLoss(pos_weight=torch.tensor(0.2, dtype=torch.float))\n",
    "\n",
    "def train_one_epoch(model, train_loader):\n",
    "    model.train()\n",
    "\n",
    "    batch_loss = 0.0\n",
    "    train_preds = []\n",
    "    train_targets = []   \n",
    "\n",
    "    for batch in train_loader:\n",
    "        text, label = batch[0].to(device), batch[1].to(device)\n",
    "        x_n = model(text)\n",
    "\n",
    "        loss = criterion(x_n, label)\n",
    "\n",
    "        optimizer.zero_grad()\n",
    "        loss.backward()\n",
    "        optimizer.step()\n",
    "\n",
    "        batch_loss += loss.item()\n",
    "        train_preds += torch.round(torch.sigmoid(x_n)).tolist()\n",
    "        train_targets += label.tolist()\n",
    "    \n",
    "    batch_loss /= len(train_loader)\n",
    "    train_f1 = f1_score(train_targets, train_preds, average='macro')\n",
    "\n",
    "    return train_f1, batch_loss\n",
    "\n",
    "def test(model, test_loader):\n",
    "    model.eval()\n",
    "    \n",
    "    test_loss = 0.0 \n",
    "    test_preds = []\n",
    "    test_targets = []\n",
    "    with torch.no_grad():\n",
    "        for batch in test_loader:\n",
    "            text, label = batch[0].to(device), batch[1].to(device)\n",
    "            x_n = model(text)  \n",
    "            loss = criterion(x_n, label)   \n",
    "\n",
    "            test_loss += loss.item()\n",
    "            test_preds += torch.round(torch.sigmoid(x_n)).tolist()\n",
    "            test_targets += label.tolist()   \n",
    "    test_loss /= len(test_loader)\n",
    "\n",
    "    return test_loss, test_targets, test_preds\n",
    "\n",
    "\n",
    "score = 0.\n",
    "for epoch in range(num_epochs):\n",
    "    train_f1, train_loss = train_one_epoch(model, train_loader)\n",
    "    test_loss, test_targets, test_preds = test(model, test_loader)\n",
    "    test_f1 = f1_score(test_targets, test_preds, average='macro')\n",
    "\n",
    "    print(f'Epoch {epoch+1}/{num_epochs}, Train Loss: {train_loss:.4f}, Test Loss: {test_loss:.4f}, Train F1: {train_f1:.4f}, Test F1: {test_f1:.4f}')\n",
    "\n",
    "    if test_f1 > score:\n",
    "        score = test_f1\n",
    "        torch.save(model.state_dict(), \"classifier.pt\")"
   ]
  },
  {
   "cell_type": "code",
   "execution_count": 33,
   "id": "67ebe21c",
   "metadata": {},
   "outputs": [],
   "source": [
    "class TestDataset(Dataset):\n",
    "    def __init__(self, data):\n",
    "        self.data = data\n",
    "    \n",
    "    def __len__(self):\n",
    "        return len(self.data)\n",
    "\n",
    "    def __getitem__(self, idx):\n",
    "\n",
    "        text = self.data[idx]['txt'][:max_len]\n",
    "        text_len = len(text)\n",
    "        text = torch.tensor(text)\n",
    "        if text_len < max_len:\n",
    "            text = torch.nn.functional.pad(text, (0, max_len - text_len), \"constant\", 0)\n",
    "\n",
    "        return text"
   ]
  },
  {
   "cell_type": "code",
   "execution_count": 34,
   "id": "9fe14f1b",
   "metadata": {},
   "outputs": [],
   "source": [
    "test_dataset = TestDataset(testing_set)\n",
    "test_loader = DataLoader(test_dataset, batch_size=batch_size, shuffle=False)"
   ]
  },
  {
   "cell_type": "code",
   "execution_count": 39,
   "id": "979025e7",
   "metadata": {
    "scrolled": false
   },
   "outputs": [],
   "source": [
    "model.eval()\n",
    "test_preds = []\n",
    "\n",
    "with torch.no_grad():\n",
    "    for batch in test_loader:\n",
    "\n",
    "        text = batch.to(device)\n",
    "        \n",
    "        x_n = model(text)\n",
    "        \n",
    "        test_preds += torch.round(torch.sigmoid(x_n)).tolist()\n",
    "        \n"
   ]
  },
  {
   "cell_type": "code",
   "execution_count": 45,
   "id": "cac3a621",
   "metadata": {},
   "outputs": [],
   "source": [
    "y_pred = [int(num) for num in test_preds]"
   ]
  },
  {
   "cell_type": "code",
   "execution_count": 46,
   "id": "3637d3d3",
   "metadata": {},
   "outputs": [],
   "source": [
    "df = pd.DataFrame(y_pred, columns = ['Predicted'])"
   ]
  },
  {
   "cell_type": "code",
   "execution_count": 47,
   "id": "c16723d7",
   "metadata": {},
   "outputs": [],
   "source": [
    "df.to_csv('out.csv')"
   ]
  },
  {
   "cell_type": "code",
   "execution_count": null,
   "id": "10553f57",
   "metadata": {},
   "outputs": [],
   "source": []
  }
 ],
 "metadata": {
  "kernelspec": {
   "display_name": "Python 3 (ipykernel)",
   "language": "python",
   "name": "python3"
  },
  "language_info": {
   "codemirror_mode": {
    "name": "ipython",
    "version": 3
   },
   "file_extension": ".py",
   "mimetype": "text/x-python",
   "name": "python",
   "nbconvert_exporter": "python",
   "pygments_lexer": "ipython3",
   "version": "3.9.7"
  }
 },
 "nbformat": 4,
 "nbformat_minor": 5
}
