{
 "cells": [
  {
   "cell_type": "code",
   "execution_count": 1,
   "id": "503eddeb",
   "metadata": {},
   "outputs": [],
   "source": [
    "import torch\n",
    "import json\n",
    "import numpy as np\n",
    "import pandas as pd\n",
    "import math\n",
    "import torch.nn as nn\n",
    "from torch.optim import Adam\n",
    "from torch.utils.data import Dataset,  DataLoader\n",
    "from torch import Tensor\n",
    "\n",
    "from sklearn.model_selection import train_test_split\n",
    "from sklearn.metrics import f1_score, classification_report, confusion_matrix\n",
    "from sklearn import metrics\n",
    "\n"
   ]
  },
  {
   "cell_type": "code",
   "execution_count": 2,
   "id": "7b73861e",
   "metadata": {},
   "outputs": [
    {
     "name": "stdout",
     "output_type": "stream",
     "text": [
      "122584 3500\n"
     ]
    }
   ],
   "source": [
    "with open('dataset/set1_human.json') as f:\n",
    "    set1_human = json.load(f)\n",
    "\n",
    "with open('dataset/set1_machine.json') as f:\n",
    "    set1_machine = json.load(f) \n",
    "\n",
    "print(len(set1_human), len(set1_machine))"
   ]
  },
  {
   "cell_type": "code",
   "execution_count": 3,
   "id": "78475e3a",
   "metadata": {},
   "outputs": [],
   "source": [
    "with open('dataset/test.json') as f:\n",
    "    testing_set = json.load(f) "
   ]
  },
  {
   "cell_type": "code",
   "execution_count": 4,
   "id": "90186ee6",
   "metadata": {},
   "outputs": [],
   "source": [
    "testing_set = testing_set[:600]"
   ]
  },
  {
   "cell_type": "code",
   "execution_count": 5,
   "id": "cf8d994d",
   "metadata": {},
   "outputs": [],
   "source": [
    "for data in set1_human:\n",
    "    data['label'] = 1.0\n",
    "for data in set1_machine:\n",
    "    data['label'] = 0.0"
   ]
  },
  {
   "cell_type": "code",
   "execution_count": 6,
   "id": "12670fa2",
   "metadata": {},
   "outputs": [],
   "source": [
    "data = set1_human + set1_machine\n",
    "y_set = np.concatenate([np.ones(len(set1_human)), np.zeros(len(set1_machine))])\n",
    "train_data, test_data, _, _ = train_test_split(data, y_set, test_size=0.1, stratify=y_set)"
   ]
  },
  {
   "cell_type": "code",
   "execution_count": 7,
   "id": "36fed6bf",
   "metadata": {},
   "outputs": [],
   "source": [
    "batch_size = 256 \n",
    "\n",
    "class TrainDataset(Dataset):\n",
    "    def __init__(self, data):\n",
    "        self.data = data\n",
    "    \n",
    "    def __len__(self):\n",
    "        return len(self.data)\n",
    "\n",
    "    def __getitem__(self, idx):\n",
    "\n",
    "        text = self.data[idx]['txt'][:250]\n",
    "        text = torch.tensor(text)\n",
    "        if len(text) < 250:\n",
    "            text = torch.nn.functional.pad(text, (0, 250 - len(text)), \"constant\", 0)\n",
    "        label = torch.tensor(self.data[idx]['label'])\n",
    "\n",
    "        return text, label"
   ]
  },
  {
   "cell_type": "code",
   "execution_count": 8,
   "id": "49049e9a",
   "metadata": {},
   "outputs": [],
   "source": [
    "class Classifier(nn.Module):\n",
    "    def __init__(self, vocab_size, emb_size, hidden_size1, hidden_size2):\n",
    "        super(Classifier, self).__init__()\n",
    "\n",
    "        self.embedding = nn.Embedding(vocab_size, emb_size)\n",
    "\n",
    "        self.model = nn.Sequential(\n",
    "            nn.Linear(emb_size, hidden_size1),\n",
    "            nn.ReLU(),\n",
    "            nn.Linear(hidden_size1, hidden_size2),\n",
    "            nn.ReLU(),\n",
    "            nn.Linear(hidden_size2, 1),\n",
    "        )\n",
    "\n",
    "    def forward(self, text):\n",
    "        text_embed = self.embedding(text) \n",
    "        text_embed = text_embed.mean(dim=1) \n",
    "        output = self.model(text_embed)\n",
    "        return output.squeeze() \n"
   ]
  },
  {
   "cell_type": "code",
   "execution_count": 9,
   "id": "587aedec",
   "metadata": {},
   "outputs": [],
   "source": [
    "class TestDataset(Dataset):\n",
    "    def __init__(self, data):\n",
    "        self.data = data\n",
    "    \n",
    "    def __len__(self):\n",
    "        return len(self.data)\n",
    "\n",
    "    def __getitem__(self, idx):\n",
    "\n",
    "        text = self.data[idx]['txt'][:250]\n",
    "        text = torch.tensor(text)\n",
    "        if len(text) < 250:\n",
    "            text = torch.nn.functional.pad(text, (0, 250 - len(text)), \"constant\", 0)\n",
    "\n",
    "        return text"
   ]
  },
  {
   "cell_type": "code",
   "execution_count": 10,
   "id": "36dd65a4",
   "metadata": {},
   "outputs": [],
   "source": [
    "train_dataset = TrainDataset(train_data)\n",
    "training_set = DataLoader(train_dataset, batch_size=batch_size, shuffle=True)\n",
    "\n",
    "test_dataset = TrainDataset(test_data)\n",
    "testing_dataset= DataLoader(test_dataset, batch_size=batch_size, shuffle=False)"
   ]
  },
  {
   "cell_type": "code",
   "execution_count": null,
   "id": "9368ac3a",
   "metadata": {
    "scrolled": false
   },
   "outputs": [],
   "source": [
    "device = torch.device('cuda' if torch.cuda.is_available() else 'cpu')\n",
    "\n",
    "clf = Classifier(5000, 256, 150, 200).to(device)\n",
    "\n",
    "opt = Adam(clf.parameters(), lr=1e-3)\n",
    "\n",
    "loss_function = nn.BCEWithLogitsLoss(pos_weight=torch.tensor(0.3, dtype=torch.float))\n",
    "\n",
    "'''weights = [0.2] * 256\n",
    "weights = torch.tensor(weights)\n",
    "nn.CrossEntropyLoss(weight=weights)'''\n",
    "\n",
    "score = 0.\n",
    "\n",
    "for epoch in range(10):\n",
    "    clf.train()\n",
    "\n",
    "    batch_loss = 0.0\n",
    "    train_preds = []\n",
    "    train_targets = []\n",
    "    \n",
    "    for batch in training_set:\n",
    "        text, label = batch[0].to(device), batch[1].to(device)\n",
    "        y_hat = clf(text)\n",
    "        loss = loss_function(y_hat, label)\n",
    "\n",
    "        opt.zero_grad()\n",
    "        loss.backward()\n",
    "        opt.step()\n",
    "\n",
    "        batch_loss += loss.item()\n",
    "        train_preds += torch.round(torch.sigmoid(y_hat)).tolist()\n",
    "        train_targets += label.tolist()\n",
    "    \n",
    "    batch_loss /= len(training_set)\n",
    "    train_f1 = f1_score(train_targets, train_preds, average='macro')\n",
    "    \n",
    "    clf.eval()\n",
    "    \n",
    "    test_loss = 0.0 \n",
    "    test_preds = []\n",
    "    test_targets = []\n",
    "    with torch.no_grad():\n",
    "        for batch in testing_dataset:\n",
    "            text, label = batch[0].to(device), batch[1].to(device)\n",
    "            y_hat = clf(text)  \n",
    "            loss = loss_function(y_hat, label)   \n",
    "\n",
    "            test_loss += loss.item()\n",
    "            test_preds += torch.round(torch.sigmoid(y_hat)).tolist()\n",
    "            test_targets += label.tolist()   \n",
    "    test_loss /= len(testing_dataset)\n",
    "    \n",
    "    test_f1 = f1_score(test_targets, test_preds, average='macro')\n",
    "    \n",
    "    print(f'Epoch {epoch}: loss is {loss.item():.4f}, Train f1 score is {train_f1:.4f}, Test f1 score is {test_f1:.4f}')\n",
    "    \n",
    "    if test_f1 > score:\n",
    "        score = test_f1\n",
    "        torch.save(clf.state_dict(), \"classifier.pt\")"
   ]
  },
  {
   "cell_type": "code",
   "execution_count": 12,
   "id": "9fe14f1b",
   "metadata": {},
   "outputs": [],
   "source": [
    "test_dataset = TestDataset(testing_set)\n",
    "testing_dataset = DataLoader(test_dataset, batch_size=batch_size, shuffle=False)"
   ]
  },
  {
   "cell_type": "code",
   "execution_count": 13,
   "id": "979025e7",
   "metadata": {
    "scrolled": false
   },
   "outputs": [],
   "source": [
    "clf.eval()\n",
    "test_preds = []\n",
    "\n",
    "with torch.no_grad():\n",
    "    for batch in testing_dataset:\n",
    "\n",
    "        text = batch.to(device)\n",
    "        \n",
    "        y_hat = clf(text)\n",
    "        \n",
    "        test_preds += torch.round(torch.sigmoid(y_hat)).tolist()\n",
    "        \n"
   ]
  },
  {
   "cell_type": "code",
   "execution_count": 14,
   "id": "cac3a621",
   "metadata": {},
   "outputs": [],
   "source": [
    "y_pred = [int(num) for num in test_preds]"
   ]
  },
  {
   "cell_type": "code",
   "execution_count": 15,
   "id": "3637d3d3",
   "metadata": {},
   "outputs": [],
   "source": [
    "df = pd.DataFrame(y_pred, columns = ['Predicted'])"
   ]
  },
  {
   "cell_type": "code",
   "execution_count": 16,
   "id": "c16723d7",
   "metadata": {},
   "outputs": [],
   "source": [
    "df.to_csv('out.csv')"
   ]
  }
 ],
 "metadata": {
  "kernelspec": {
   "display_name": "Python 3 (ipykernel)",
   "language": "python",
   "name": "python3"
  },
  "language_info": {
   "codemirror_mode": {
    "name": "ipython",
    "version": 3
   },
   "file_extension": ".py",
   "mimetype": "text/x-python",
   "name": "python",
   "nbconvert_exporter": "python",
   "pygments_lexer": "ipython3",
   "version": "3.9.7"
  }
 },
 "nbformat": 4,
 "nbformat_minor": 5
}
