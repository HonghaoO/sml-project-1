{
 "cells": [
  {
   "cell_type": "code",
   "execution_count": null,
   "id": "ffefe05f",
   "metadata": {
    "scrolled": true
   },
   "outputs": [],
   "source": [
    "import json\n",
    "import torch\n",
    "import numpy as np\n",
    "import pandas as pd\n",
    "\n"
   ]
  },
  {
   "cell_type": "code",
   "execution_count": null,
   "id": "e9d4b4e2",
   "metadata": {},
   "outputs": [],
   "source": [
    "# Read all the data sets\n",
    "\n",
    "set1_human = pd.read_json('dataset/set1_human.json')\n",
    "set1_machine = pd.read_json('dataset/set1_machine.json')\n",
    "set2_human = pd.read_json('dataset/set2_human.json')\n",
    "set2_machine = pd.read_json('dataset/set2_machine.json')\n",
    "\n",
    "# Add in label for all data sets\n",
    "set1_human = set1_human.assign(label=1)\n",
    "set2_human = set2_human.assign(label=1)\n",
    "set1_machine = set1_machine.assign(label=0)\n",
    "set2_machine = set2_machine.assign(label=0)"
   ]
  },
  {
   "cell_type": "code",
   "execution_count": null,
   "id": "0c757fee",
   "metadata": {
    "scrolled": false
   },
   "outputs": [],
   "source": [
    "# Remove the machine id for testing\n",
    "set1_machine = set1_machine.drop('machine_id', axis=1)\n",
    "set2_machine = set2_machine.drop('machine_id', axis=1)\n",
    "\n",
    "# Separate and concatenate into 2 sets, set 1 and set 2\n",
    "set1 = pd.concat([set1_human, set1_machine])\n",
    "set2 = pd.concat([set2_human, set2_machine])\n",
    "\n",
    "# Split the labels and the data for training\n",
    "x_set1 = pd.DataFrame(set1[['txt']])\n",
    "y_set1 = pd.DataFrame(set1[['label']])\n",
    "x_set2 = pd.DataFrame(set2[['txt']])\n",
    "y_set2 = pd.DataFrame(set2[['label']])"
   ]
  },
  {
   "cell_type": "code",
   "execution_count": null,
   "id": "c1e06336",
   "metadata": {
    "scrolled": false
   },
   "outputs": [],
   "source": [
    "x_set1"
   ]
  },
  {
   "cell_type": "code",
   "execution_count": null,
   "id": "31e28b62",
   "metadata": {},
   "outputs": [],
   "source": [
    "x_set1['txt'] = x_set1['txt'].apply(lambda x: ' '.join(map(str, x)))"
   ]
  },
  {
   "cell_type": "code",
   "execution_count": null,
   "id": "582346eb",
   "metadata": {},
   "outputs": [],
   "source": [
    "from sklearn.feature_extraction.text import CountVectorizer\n",
    "from sklearn.feature_extraction import DictVectorizer\n",
    "\n",
    "\n",
    "vectorizer = CountVectorizer()\n",
    "vectorized_words = vectorizer.fit_transform(x_set1['txt'])\n",
    "x_set1_vectorized = pd.DataFrame(vectorized_words.toarray())\n"
   ]
  },
  {
   "cell_type": "code",
   "execution_count": null,
   "id": "bf9daab7",
   "metadata": {},
   "outputs": [],
   "source": [
    "print(x_set1_vectorized.shape)"
   ]
  },
  {
   "cell_type": "markdown",
   "id": "f9741209",
   "metadata": {},
   "source": [
    "Split into training and testing sets"
   ]
  },
  {
   "cell_type": "code",
   "execution_count": null,
   "id": "8043b2c1",
   "metadata": {},
   "outputs": [],
   "source": [
    "from sklearn.model_selection import train_test_split, StratifiedShuffleSplit\n",
    "\n",
    "x_set1_train, x_set1_test, y_set1_train, y_set1_test= train_test_split(x_set1_vectorized, y_set1, test_size=0.2, stratify=y_set1)"
   ]
  },
  {
   "cell_type": "code",
   "execution_count": null,
   "id": "660190af",
   "metadata": {},
   "outputs": [],
   "source": [
    "x_set1_train"
   ]
  },
  {
   "cell_type": "code",
   "execution_count": null,
   "id": "20c95447",
   "metadata": {},
   "outputs": [],
   "source": [
    "from sklearn.linear_model import LogisticRegression\n",
    "from sklearn.metrics import accuracy_score, f1_score\n",
    "\n",
    "clf = LogisticRegression()\n",
    "clf.fit(x_set1_train, y_set1_train)\n",
    "\n",
    "y_pred = clf.predict(x_set1_test)\n",
    "accuracy = accuracy_score(y_set1_test, y_pred)\n",
    "print('Accuracy:', accuracy)"
   ]
  },
  {
   "cell_type": "code",
   "execution_count": null,
   "id": "55c50877",
   "metadata": {},
   "outputs": [],
   "source": [
    "print(classification_report(y_pred, y_set1_test))"
   ]
  },
  {
   "cell_type": "code",
   "execution_count": null,
   "id": "5d738ca8",
   "metadata": {},
   "outputs": [],
   "source": []
  }
 ],
 "metadata": {
  "kernelspec": {
   "display_name": "Python 3 (ipykernel)",
   "language": "python",
   "name": "python3"
  },
  "language_info": {
   "codemirror_mode": {
    "name": "ipython",
    "version": 3
   },
   "file_extension": ".py",
   "mimetype": "text/x-python",
   "name": "python",
   "nbconvert_exporter": "python",
   "pygments_lexer": "ipython3",
   "version": "3.9.7"
  }
 },
 "nbformat": 4,
 "nbformat_minor": 5
}
