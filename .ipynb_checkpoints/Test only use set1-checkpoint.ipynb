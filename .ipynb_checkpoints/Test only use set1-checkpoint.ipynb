{
 "cells": [
  {
   "cell_type": "code",
   "execution_count": 1,
   "id": "ffefe05f",
   "metadata": {
    "scrolled": true
   },
   "outputs": [],
   "source": [
    "import json\n",
    "import numpy as np\n",
    "import pandas as pd\n"
   ]
  },
  {
   "cell_type": "code",
   "execution_count": 2,
   "id": "e9d4b4e2",
   "metadata": {},
   "outputs": [],
   "source": [
    "# Read all the data sets\n",
    "\n",
    "set1_human = pd.read_json('dataset/set1_human.json')\n",
    "set1_machine = pd.read_json('dataset/set1_machine.json')\n",
    "set2_human = pd.read_json('dataset/set2_human.json')\n",
    "set2_machine = pd.read_json('dataset/set2_machine.json')\n",
    "set_test = pd.read_json('dataset/test.json')\n",
    "\n",
    "# Add in label for all data sets\n",
    "set1_human = set1_human.assign(label=1)\n",
    "set2_human = set2_human.assign(label=1)\n",
    "set1_machine = set1_machine.assign(label=0)\n",
    "set2_machine = set2_machine.assign(label=0)"
   ]
  },
  {
   "cell_type": "code",
   "execution_count": 3,
   "id": "0c757fee",
   "metadata": {
    "scrolled": false
   },
   "outputs": [],
   "source": [
    "# Separate and concatenate into 2 sets, set 1 and set 2\n",
    "set1 = pd.concat([set1_human[:3500], set1_machine])\n",
    "set2 = pd.concat([set2_human, set2_machine[:100]])\n",
    "\n",
    "# Split the labels and the data for training\n",
    "x_set1 = pd.DataFrame(set1[['txt', 'prompt']])\n",
    "y_set1 = pd.DataFrame(set1[['label']])\n",
    "x_set2 = pd.DataFrame(set2[['txt', 'prompt']])\n",
    "y_set2 = pd.DataFrame(set2[['label']])"
   ]
  },
  {
   "cell_type": "code",
   "execution_count": 4,
   "id": "f44624ec",
   "metadata": {},
   "outputs": [],
   "source": [
    "x_set1['prompt_len'] = x_set1['prompt'].apply(lambda x: len(x))\n",
    "x_set1['txt_len'] = x_set1['txt'].apply(lambda x: len(x))\n",
    "\n",
    "x_set2['prompt_len'] = x_set2['prompt'].apply(lambda x: len(x))\n",
    "x_set2['txt_len'] = x_set2['txt'].apply(lambda x: len(x))"
   ]
  },
  {
   "cell_type": "code",
   "execution_count": 5,
   "id": "582346eb",
   "metadata": {},
   "outputs": [],
   "source": [
    "from sklearn.feature_extraction.text import CountVectorizer\n",
    "from sklearn.feature_extraction import DictVectorizer\n",
    "from sklearn.model_selection import train_test_split, StratifiedShuffleSplit\n",
    "\n",
    "def preprocess(x_set, y_set):\n",
    "    \n",
    "    x_set['txt'] = x_set['txt'].apply(lambda x: ' '.join(map(str, x)))\n",
    "    vectorizer = CountVectorizer()\n",
    "    vectorized_words = vectorizer.fit_transform(x_set['txt'])\n",
    "    x_set_vectorized = pd.DataFrame(vectorized_words.toarray())\n",
    "    x_set_train,  x_set_test, y_set_train, y_set_test= train_test_split(x_set_vectorized, y_set, test_size=0.2, stratify=y_set)\n",
    "    return x_set_train,  x_set_test, y_set_train, y_set_test"
   ]
  },
  {
   "cell_type": "code",
   "execution_count": 6,
   "id": "20c95447",
   "metadata": {},
   "outputs": [],
   "source": [
    "from sklearn.linear_model import LogisticRegression\n",
    "from sklearn import metrics\n",
    "from sklearn.metrics import f1_score, accuracy_score, classification_report, confusion_matrix\n",
    "\n",
    "\n",
    "def predict(classifier, x_set_train, y_set_train, x_set_test, y_set_test):\n",
    "    classifier.fit(x_set_train, y_set_train)\n",
    "\n",
    "    y_pred = classifier.predict(x_set_test)\n",
    "    accuracy = accuracy_score(y_set_test, y_pred)\n",
    "    \n",
    "    print(classification_report(y_pred, y_set_test))\n",
    "    cm_display = metrics.ConfusionMatrixDisplay(confusion_matrix = confusion_matrix(y_set_test, y_pred))\n",
    "    cm_display.plot();\n",
    "    \n",
    "    return\n",
    "\n"
   ]
  },
  {
   "cell_type": "code",
   "execution_count": 7,
   "id": "967ee3a0",
   "metadata": {
    "scrolled": true
   },
   "outputs": [
    {
     "name": "stderr",
     "output_type": "stream",
     "text": [
      "/home/jiaming/.local/lib/python3.8/site-packages/sklearn/utils/validation.py:1111: DataConversionWarning: A column-vector y was passed when a 1d array was expected. Please change the shape of y to (n_samples, ), for example using ravel().\n",
      "  y = column_or_1d(y, warn=True)\n",
      "/home/jiaming/.local/lib/python3.8/site-packages/sklearn/linear_model/_logistic.py:444: ConvergenceWarning: lbfgs failed to converge (status=1):\n",
      "STOP: TOTAL NO. of ITERATIONS REACHED LIMIT.\n",
      "\n",
      "Increase the number of iterations (max_iter) or scale the data as shown in:\n",
      "    https://scikit-learn.org/stable/modules/preprocessing.html\n",
      "Please also refer to the documentation for alternative solver options:\n",
      "    https://scikit-learn.org/stable/modules/linear_model.html#logistic-regression\n",
      "  n_iter_i = _check_optimize_result(\n"
     ]
    },
    {
     "name": "stdout",
     "output_type": "stream",
     "text": [
      "              precision    recall  f1-score   support\n",
      "\n",
      "           0       0.89      0.88      0.88       714\n",
      "           1       0.87      0.89      0.88       686\n",
      "\n",
      "    accuracy                           0.88      1400\n",
      "   macro avg       0.88      0.88      0.88      1400\n",
      "weighted avg       0.88      0.88      0.88      1400\n",
      "\n"
     ]
    },
    {
     "data": {
      "image/png": "[encoded data removed]",
      "text/plain": [
       "<Figure size 432x288 with 2 Axes>"
      ]
     },
     "metadata": {
      "needs_background": "light"
     },
     "output_type": "display_data"
    }
   ],
   "source": [
    "x_set1_train, x_set1_test, y_set1_train, y_set1_test= preprocess(x_set1, y_set1)\n",
    "predict(LogisticRegression(), x_set1_train, y_set1_train, x_set1_test, y_set1_test)"
   ]
  },
  {
   "cell_type": "code",
   "execution_count": 8,
   "id": "c81605e7",
   "metadata": {
    "scrolled": false
   },
   "outputs": [
    {
     "name": "stderr",
     "output_type": "stream",
     "text": [
      "/home/jiaming/.local/lib/python3.8/site-packages/sklearn/utils/validation.py:1111: DataConversionWarning: A column-vector y was passed when a 1d array was expected. Please change the shape of y to (n_samples, ), for example using ravel().\n",
      "  y = column_or_1d(y, warn=True)\n",
      "/home/jiaming/.local/lib/python3.8/site-packages/sklearn/linear_model/_logistic.py:444: ConvergenceWarning: lbfgs failed to converge (status=1):\n",
      "STOP: TOTAL NO. of ITERATIONS REACHED LIMIT.\n",
      "\n",
      "Increase the number of iterations (max_iter) or scale the data as shown in:\n",
      "    https://scikit-learn.org/stable/modules/preprocessing.html\n",
      "Please also refer to the documentation for alternative solver options:\n",
      "    https://scikit-learn.org/stable/modules/linear_model.html#logistic-regression\n",
      "  n_iter_i = _check_optimize_result(\n"
     ]
    },
    {
     "name": "stdout",
     "output_type": "stream",
     "text": [
      "              precision    recall  f1-score   support\n",
      "\n",
      "           0       0.50      0.48      0.49        21\n",
      "           1       0.45      0.47      0.46        19\n",
      "\n",
      "    accuracy                           0.48        40\n",
      "   macro avg       0.47      0.47      0.47        40\n",
      "weighted avg       0.48      0.47      0.48        40\n",
      "\n"
     ]
    },
    {
     "data": {
      "image/png": "[encoded data removed]",
      "text/plain": [
       "<Figure size 432x288 with 2 Axes>"
      ]
     },
     "metadata": {
      "needs_background": "light"
     },
     "output_type": "display_data"
    }
   ],
   "source": [
    "x_set2_train, x_set2_test, y_set2_train, y_set2_test= preprocess(x_set2, y_set2)\n",
    "predict(LogisticRegression(), x_set2_train, y_set2_train, x_set2_test, y_set2_test)"
   ]
  },
  {
   "cell_type": "code",
   "execution_count": 9,
   "id": "7d005e75",
   "metadata": {},
   "outputs": [],
   "source": [
    "x_set = pd.concat([set1, set_test])"
   ]
  },
  {
   "cell_type": "code",
   "execution_count": 10,
   "id": "a4f80dc4",
   "metadata": {
    "scrolled": true
   },
   "outputs": [
    {
     "data": {
      "text/html": [
       "<div>\n",
       "<style scoped>\n",
       "    .dataframe tbody tr th:only-of-type {\n",
       "        vertical-align: middle;\n",
       "    }\n",
       "\n",
       "    .dataframe tbody tr th {\n",
       "        vertical-align: top;\n",
       "    }\n",
       "\n",
       "    .dataframe thead th {\n",
       "        text-align: right;\n",
       "    }\n",
       "</style>\n",
       "<table border=\"1\" class=\"dataframe\">\n",
       "  <thead>\n",
       "    <tr style=\"text-align: right;\">\n",
       "      <th></th>\n",
       "      <th>prompt</th>\n",
       "      <th>txt</th>\n",
       "      <th>label</th>\n",
       "      <th>machine_id</th>\n",
       "    </tr>\n",
       "  </thead>\n",
       "  <tbody>\n",
       "    <tr>\n",
       "      <th>0</th>\n",
       "      <td>[1759, 4203, 1493, 3153, 1499]</td>\n",
       "      <td>[1479, 3457, 2277, 1827, 1493, 2582, 3723, 147...</td>\n",
       "      <td>1.0</td>\n",
       "      <td>NaN</td>\n",
       "    </tr>\n",
       "    <tr>\n",
       "      <th>1</th>\n",
       "      <td>[1502, 1557, 1487, 1479, 3402, 1551, 1602, 286...</td>\n",
       "      <td>[721, 2820, 1676, 4, 76, 2130, 1502, 1591, 148...</td>\n",
       "      <td>1.0</td>\n",
       "      <td>NaN</td>\n",
       "    </tr>\n",
       "    <tr>\n",
       "      <th>2</th>\n",
       "      <td>[3650, 1822, 1500, 4075, 15, 1510, 87, 1683, 1...</td>\n",
       "      <td>[2732, 3882, 1801, 1479, 2833, 2622, 2874, 156...</td>\n",
       "      <td>1.0</td>\n",
       "      <td>NaN</td>\n",
       "    </tr>\n",
       "    <tr>\n",
       "      <th>3</th>\n",
       "      <td>[1518, 2556, 15, 1612, 1490, 1598, 2409, 1484,...</td>\n",
       "      <td>[1479, 4758, 1734, 1511, 1500, 1479, 91, 10, 8...</td>\n",
       "      <td>1.0</td>\n",
       "      <td>NaN</td>\n",
       "    </tr>\n",
       "    <tr>\n",
       "      <th>4</th>\n",
       "      <td>[1518, 1519, 4640, 2858, 1865, 1622, 1520, 147...</td>\n",
       "      <td>[4683, 1751, 2004, 1485, 1499, 15, 1574, 2193,...</td>\n",
       "      <td>1.0</td>\n",
       "      <td>NaN</td>\n",
       "    </tr>\n",
       "    <tr>\n",
       "      <th>...</th>\n",
       "      <td>...</td>\n",
       "      <td>...</td>\n",
       "      <td>...</td>\n",
       "      <td>...</td>\n",
       "    </tr>\n",
       "    <tr>\n",
       "      <th>995</th>\n",
       "      <td>[44, 54, 47, 36, 48, 36, 37, 36, 39, 15, 51, 1...</td>\n",
       "      <td>[39, 1491, 3055, 1740, 1600, 37, 1536, 1483, 2...</td>\n",
       "      <td>NaN</td>\n",
       "      <td>NaN</td>\n",
       "    </tr>\n",
       "    <tr>\n",
       "      <th>996</th>\n",
       "      <td>[1737, 53, 1584, 1504, 1511, 58, 2665, 2012, 1...</td>\n",
       "      <td>[55, 2686, 2336, 2410, 23, 16, 28, 27, 15, 165...</td>\n",
       "      <td>NaN</td>\n",
       "      <td>NaN</td>\n",
       "    </tr>\n",
       "    <tr>\n",
       "      <th>997</th>\n",
       "      <td>[43, 1661, 46, 1661, 1737, 36, 4698, 1996, 189...</td>\n",
       "      <td>[55, 1497, 3684, 15, 1974, 1491, 1698, 20, 17,...</td>\n",
       "      <td>NaN</td>\n",
       "      <td>NaN</td>\n",
       "    </tr>\n",
       "    <tr>\n",
       "      <th>998</th>\n",
       "      <td>[1737, 36, 2607, 1755, 41, 1657, 2285, 10, 86,...</td>\n",
       "      <td>[54, 1612, 2097, 1868, 36, 1511, 55, 75, 2163,...</td>\n",
       "      <td>NaN</td>\n",
       "      <td>NaN</td>\n",
       "    </tr>\n",
       "    <tr>\n",
       "      <th>999</th>\n",
       "      <td>[54, 51, 53, 44, 49, 42, 41, 44, 40, 47, 39, 1...</td>\n",
       "      <td>[55, 1497, 42, 1481, 1489, 37, 2175, 2518, 148...</td>\n",
       "      <td>NaN</td>\n",
       "      <td>NaN</td>\n",
       "    </tr>\n",
       "  </tbody>\n",
       "</table>\n",
       "<p>8000 rows × 4 columns</p>\n",
       "</div>"
      ],
      "text/plain": [
       "                                                prompt  \\\n",
       "0                       [1759, 4203, 1493, 3153, 1499]   \n",
       "1    [1502, 1557, 1487, 1479, 3402, 1551, 1602, 286...   \n",
       "2    [3650, 1822, 1500, 4075, 15, 1510, 87, 1683, 1...   \n",
       "3    [1518, 2556, 15, 1612, 1490, 1598, 2409, 1484,...   \n",
       "4    [1518, 1519, 4640, 2858, 1865, 1622, 1520, 147...   \n",
       "..                                                 ...   \n",
       "995  [44, 54, 47, 36, 48, 36, 37, 36, 39, 15, 51, 1...   \n",
       "996  [1737, 53, 1584, 1504, 1511, 58, 2665, 2012, 1...   \n",
       "997  [43, 1661, 46, 1661, 1737, 36, 4698, 1996, 189...   \n",
       "998  [1737, 36, 2607, 1755, 41, 1657, 2285, 10, 86,...   \n",
       "999  [54, 51, 53, 44, 49, 42, 41, 44, 40, 47, 39, 1...   \n",
       "\n",
       "                                                   txt  label  machine_id  \n",
       "0    [1479, 3457, 2277, 1827, 1493, 2582, 3723, 147...    1.0         NaN  \n",
       "1    [721, 2820, 1676, 4, 76, 2130, 1502, 1591, 148...    1.0         NaN  \n",
       "2    [2732, 3882, 1801, 1479, 2833, 2622, 2874, 156...    1.0         NaN  \n",
       "3    [1479, 4758, 1734, 1511, 1500, 1479, 91, 10, 8...    1.0         NaN  \n",
       "4    [4683, 1751, 2004, 1485, 1499, 15, 1574, 2193,...    1.0         NaN  \n",
       "..                                                 ...    ...         ...  \n",
       "995  [39, 1491, 3055, 1740, 1600, 37, 1536, 1483, 2...    NaN         NaN  \n",
       "996  [55, 2686, 2336, 2410, 23, 16, 28, 27, 15, 165...    NaN         NaN  \n",
       "997  [55, 1497, 3684, 15, 1974, 1491, 1698, 20, 17,...    NaN         NaN  \n",
       "998  [54, 1612, 2097, 1868, 36, 1511, 55, 75, 2163,...    NaN         NaN  \n",
       "999  [55, 1497, 42, 1481, 1489, 37, 2175, 2518, 148...    NaN         NaN  \n",
       "\n",
       "[8000 rows x 4 columns]"
      ]
     },
     "execution_count": 10,
     "metadata": {},
     "output_type": "execute_result"
    }
   ],
   "source": [
    "x_set"
   ]
  },
  {
   "cell_type": "code",
   "execution_count": 11,
   "id": "ef6f8758",
   "metadata": {},
   "outputs": [],
   "source": [
    "x_set['txt'] = x_set['txt'].apply(lambda x: ' '.join(map(str, x)))\n",
    "vectorizer = CountVectorizer()\n",
    "vectorized_words = vectorizer.fit_transform(x_set['txt'])\n",
    "x_set_vectorized = pd.DataFrame(vectorized_words.toarray())"
   ]
  },
  {
   "cell_type": "code",
   "execution_count": 12,
   "id": "15114236",
   "metadata": {},
   "outputs": [],
   "source": [
    "x_set_train = x_set_vectorized[:7000]\n",
    "x_set_test = x_set_vectorized[7000:]"
   ]
  },
  {
   "cell_type": "code",
   "execution_count": 13,
   "id": "f476239d",
   "metadata": {
    "scrolled": true
   },
   "outputs": [
    {
     "name": "stderr",
     "output_type": "stream",
     "text": [
      "/home/jiaming/.local/lib/python3.8/site-packages/sklearn/utils/validation.py:1111: DataConversionWarning: A column-vector y was passed when a 1d array was expected. Please change the shape of y to (n_samples, ), for example using ravel().\n",
      "  y = column_or_1d(y, warn=True)\n",
      "/home/jiaming/.local/lib/python3.8/site-packages/sklearn/linear_model/_logistic.py:444: ConvergenceWarning: lbfgs failed to converge (status=1):\n",
      "STOP: TOTAL NO. of ITERATIONS REACHED LIMIT.\n",
      "\n",
      "Increase the number of iterations (max_iter) or scale the data as shown in:\n",
      "    https://scikit-learn.org/stable/modules/preprocessing.html\n",
      "Please also refer to the documentation for alternative solver options:\n",
      "    https://scikit-learn.org/stable/modules/linear_model.html#logistic-regression\n",
      "  n_iter_i = _check_optimize_result(\n"
     ]
    }
   ],
   "source": [
    "classifier = LogisticRegression()\n",
    "classifier.fit(x_set_train, y_set1)\n",
    "y_pred = classifier.predict(x_set_test)"
   ]
  },
  {
   "cell_type": "code",
   "execution_count": 14,
   "id": "68fdde69",
   "metadata": {
    "scrolled": true
   },
   "outputs": [
    {
     "data": {
      "text/plain": [
       "array([1, 0, 0, 0, 0, 0, 0, 0, 1, 0, 1, 0, 0, 0, 1, 0, 1, 0, 1, 0, 0, 0,\n",
       "       0, 1, 0, 0, 1, 1, 0, 1, 1, 0, 0, 0, 1, 0, 0, 0, 1, 0, 1, 0, 1, 0,\n",
       "       1, 1, 0, 1, 0, 0, 0, 1, 0, 1, 1, 0, 1, 1, 1, 1, 0, 1, 0, 0, 0, 0,\n",
       "       1, 0, 1, 0, 0, 0, 0, 0, 0, 1, 0, 0, 0, 0, 1, 0, 1, 0, 0, 0, 0, 0,\n",
       "       1, 0, 0, 1, 0, 1, 1, 0, 0, 0, 1, 0, 0, 1, 1, 0, 0, 1, 0, 0, 1, 1,\n",
       "       0, 1, 0, 0, 0, 1, 0, 1, 0, 1, 1, 0, 0, 1, 0, 1, 0, 1, 0, 1, 0, 0,\n",
       "       0, 1, 0, 0, 0, 1, 0, 1, 0, 0, 0, 1, 0, 1, 0, 0, 0, 0, 0, 0, 1, 0,\n",
       "       0, 1, 0, 1, 0, 0, 0, 0, 0, 0, 0, 0, 0, 0, 1, 1, 0, 1, 0, 0, 1, 0,\n",
       "       1, 1, 0, 0, 0, 0, 0, 1, 1, 0, 0, 0, 0, 1, 1, 1, 1, 0, 0, 1, 1, 0,\n",
       "       1, 1, 0, 1, 0, 0, 0, 0, 1, 1, 1, 0, 0, 0, 1, 1, 0, 1, 1, 0, 0, 0,\n",
       "       1, 1, 0, 1, 1, 0, 0, 1, 1, 1, 0, 0, 0, 0, 1, 0, 0, 0, 0, 0, 1, 0,\n",
       "       1, 0, 0, 0, 0, 1, 0, 0, 1, 0, 1, 0, 1, 0, 0, 1, 0, 0, 0, 0, 0, 0,\n",
       "       1, 1, 1, 1, 1, 0, 1, 0, 1, 0, 0, 1, 1, 0, 1, 0, 0, 0, 1, 1, 0, 0,\n",
       "       0, 1, 1, 0, 1, 0, 0, 0, 1, 1, 0, 1, 0, 1, 0, 0, 1, 0, 0, 0, 0, 1,\n",
       "       1, 1, 1, 0, 0, 0, 1, 1, 1, 0, 1, 0, 0, 0, 0, 0, 0, 0, 1, 0, 0, 0,\n",
       "       1, 0, 0, 0, 1, 0, 1, 1, 1, 1, 1, 0, 0, 0, 0, 0, 1, 1, 1, 0, 1, 0,\n",
       "       0, 0, 0, 1, 0, 1, 0, 0, 0, 0, 0, 1, 1, 1, 0, 1, 0, 0, 0, 0, 0, 1,\n",
       "       1, 1, 0, 0, 1, 1, 0, 1, 1, 0, 0, 0, 0, 0, 1, 0, 1, 0, 0, 0, 0, 1,\n",
       "       1, 0, 0, 1, 1, 0, 0, 0, 1, 0, 1, 1, 0, 1, 0, 0, 0, 0, 1, 0, 0, 1,\n",
       "       0, 1, 0, 0, 0, 0, 0, 0, 0, 1, 1, 0, 0, 1, 0, 0, 0, 0, 0, 0, 0, 0,\n",
       "       1, 0, 0, 0, 0, 1, 0, 1, 0, 0, 0, 0, 0, 0, 1, 0, 0, 0, 1, 1, 1, 0,\n",
       "       0, 1, 0, 0, 1, 1, 1, 0, 0, 1, 1, 1, 0, 0, 0, 0, 0, 0, 0, 0, 1, 0,\n",
       "       1, 0, 1, 0, 1, 0, 1, 0, 0, 1, 0, 0, 1, 1, 0, 1, 1, 0, 0, 1, 0, 0,\n",
       "       0, 1, 0, 0, 1, 1, 0, 0, 0, 0, 0, 0, 1, 0, 0, 0, 0, 1, 0, 0, 0, 0,\n",
       "       1, 0, 1, 0, 0, 0, 0, 0, 0, 0, 0, 0, 1, 0, 0, 0, 0, 0, 0, 0, 1, 1,\n",
       "       0, 1, 0, 0, 1, 0, 0, 1, 0, 1, 0, 0, 1, 0, 1, 0, 0, 1, 0, 0, 0, 1,\n",
       "       0, 1, 0, 0, 1, 1, 1, 1, 0, 0, 0, 0, 1, 0, 1, 1, 0, 0, 1, 0, 0, 1,\n",
       "       0, 1, 0, 0, 0, 0, 0, 0, 1, 0, 0, 1, 0, 1, 0, 1, 0, 1, 1, 1, 0, 0,\n",
       "       1, 1, 0, 1, 1, 1, 1, 1, 0, 1, 1, 1, 1, 1, 0, 1, 0, 1, 1, 0, 0, 1,\n",
       "       0, 0, 1, 1, 1, 1, 1, 1, 0, 1, 0, 1, 0, 0, 1, 0, 0, 0, 0, 0, 1, 0,\n",
       "       0, 1, 1, 1, 1, 0, 0, 1, 1, 1, 0, 0, 1, 1, 0, 0, 0, 0, 1, 1, 1, 1,\n",
       "       1, 0, 1, 0, 0, 1, 0, 1, 1, 1, 0, 0, 0, 1, 1, 1, 1, 1, 1, 0, 0, 0,\n",
       "       1, 1, 1, 1, 1, 0, 0, 1, 1, 1, 1, 1, 0, 1, 1, 1, 1, 1, 1, 1, 1, 0,\n",
       "       0, 0, 1, 1, 0, 1, 1, 1, 0, 0, 1, 1, 1, 1, 1, 1, 1, 0, 0, 0, 0, 1,\n",
       "       1, 0, 1, 1, 0, 1, 1, 1, 1, 0, 0, 1, 1, 1, 1, 1, 1, 0, 1, 1, 0, 0,\n",
       "       1, 1, 1, 1, 0, 1, 0, 1, 1, 1, 1, 1, 0, 1, 0, 1, 0, 0, 0, 0, 1, 0,\n",
       "       1, 0, 1, 1, 0, 0, 1, 0, 1, 0, 0, 1, 0, 0, 1, 1, 1, 1, 1, 0, 1, 0,\n",
       "       0, 1, 0, 1, 1, 1, 1, 1, 1, 1, 0, 1, 1, 1, 0, 0, 1, 1, 1, 1, 1, 0,\n",
       "       1, 1, 0, 1, 1, 1, 1, 1, 1, 0, 0, 1, 1, 1, 0, 1, 1, 1, 1, 1, 0, 1,\n",
       "       1, 1, 1, 0, 0, 1, 1, 0, 1, 0, 1, 0, 1, 1, 1, 0, 1, 0, 0, 0, 1, 1,\n",
       "       1, 1, 1, 0, 1, 1, 0, 1, 1, 1, 1, 0, 1, 0, 1, 1, 1, 1, 0, 1, 0, 1,\n",
       "       1, 0, 1, 1, 1, 1, 0, 1, 1, 0, 1, 1, 1, 0, 1, 1, 0, 1, 0, 0, 1, 1,\n",
       "       1, 0, 1, 1, 1, 0, 1, 1, 0, 0, 1, 1, 0, 1, 0, 1, 1, 1, 0, 0, 1, 1,\n",
       "       1, 0, 1, 1, 1, 1, 0, 0, 1, 1, 1, 1, 1, 0, 1, 0, 1, 1, 1, 1, 0, 0,\n",
       "       0, 1, 1, 1, 0, 1, 0, 1, 1, 0, 0, 1, 1, 1, 0, 1, 0, 1, 1, 0, 1, 1,\n",
       "       0, 0, 1, 1, 0, 1, 1, 0, 0, 1])"
      ]
     },
     "execution_count": 14,
     "metadata": {},
     "output_type": "execute_result"
    }
   ],
   "source": [
    "y_pred"
   ]
  },
  {
   "cell_type": "code",
   "execution_count": 25,
   "id": "f9bb74ed",
   "metadata": {},
   "outputs": [],
   "source": [
    "df = pd.DataFrame(y_pred, columns = ['Predicted'])"
   ]
  },
  {
   "cell_type": "code",
   "execution_count": 27,
   "id": "e1b93ad9",
   "metadata": {},
   "outputs": [
    {
     "data": {
      "text/html": [
       "<div>\n",
       "<style scoped>\n",
       "    .dataframe tbody tr th:only-of-type {\n",
       "        vertical-align: middle;\n",
       "    }\n",
       "\n",
       "    .dataframe tbody tr th {\n",
       "        vertical-align: top;\n",
       "    }\n",
       "\n",
       "    .dataframe thead th {\n",
       "        text-align: right;\n",
       "    }\n",
       "</style>\n",
       "<table border=\"1\" class=\"dataframe\">\n",
       "  <thead>\n",
       "    <tr style=\"text-align: right;\">\n",
       "      <th></th>\n",
       "      <th>Predicted</th>\n",
       "    </tr>\n",
       "  </thead>\n",
       "  <tbody>\n",
       "    <tr>\n",
       "      <th>0</th>\n",
       "      <td>1</td>\n",
       "    </tr>\n",
       "    <tr>\n",
       "      <th>1</th>\n",
       "      <td>0</td>\n",
       "    </tr>\n",
       "    <tr>\n",
       "      <th>2</th>\n",
       "      <td>0</td>\n",
       "    </tr>\n",
       "    <tr>\n",
       "      <th>3</th>\n",
       "      <td>0</td>\n",
       "    </tr>\n",
       "    <tr>\n",
       "      <th>4</th>\n",
       "      <td>0</td>\n",
       "    </tr>\n",
       "    <tr>\n",
       "      <th>...</th>\n",
       "      <td>...</td>\n",
       "    </tr>\n",
       "    <tr>\n",
       "      <th>995</th>\n",
       "      <td>1</td>\n",
       "    </tr>\n",
       "    <tr>\n",
       "      <th>996</th>\n",
       "      <td>1</td>\n",
       "    </tr>\n",
       "    <tr>\n",
       "      <th>997</th>\n",
       "      <td>0</td>\n",
       "    </tr>\n",
       "    <tr>\n",
       "      <th>998</th>\n",
       "      <td>0</td>\n",
       "    </tr>\n",
       "    <tr>\n",
       "      <th>999</th>\n",
       "      <td>1</td>\n",
       "    </tr>\n",
       "  </tbody>\n",
       "</table>\n",
       "<p>1000 rows × 1 columns</p>\n",
       "</div>"
      ],
      "text/plain": [
       "     Predicted\n",
       "0            1\n",
       "1            0\n",
       "2            0\n",
       "3            0\n",
       "4            0\n",
       "..         ...\n",
       "995          1\n",
       "996          1\n",
       "997          0\n",
       "998          0\n",
       "999          1\n",
       "\n",
       "[1000 rows x 1 columns]"
      ]
     },
     "execution_count": 27,
     "metadata": {},
     "output_type": "execute_result"
    }
   ],
   "source": [
    "df"
   ]
  },
  {
   "cell_type": "code",
   "execution_count": 26,
   "id": "487ae8cc",
   "metadata": {
    "scrolled": true
   },
   "outputs": [],
   "source": [
    "df.to_csv('out.csv')"
   ]
  }
 ],
 "metadata": {
  "kernelspec": {
   "display_name": "Python 3 (ipykernel)",
   "language": "python",
   "name": "python3"
  },
  "language_info": {
   "codemirror_mode": {
    "name": "ipython",
    "version": 3
   },
   "file_extension": ".py",
   "mimetype": "text/x-python",
   "name": "python",
   "nbconvert_exporter": "python",
   "pygments_lexer": "ipython3",
   "version": "3.8.10"
  }
 },
 "nbformat": 4,
 "nbformat_minor": 5
}
