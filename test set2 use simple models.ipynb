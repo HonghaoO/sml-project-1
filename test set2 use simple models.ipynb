{
 "cells": [
  {
   "cell_type": "code",
   "execution_count": 1,
   "id": "ffefe05f",
   "metadata": {
    "scrolled": true
   },
   "outputs": [],
   "source": [
    "import json\n",
    "import numpy as np\n",
    "import pandas as pd\n",
    "import matplotlib.pyplot as plt"
   ]
  },
  {
   "cell_type": "code",
   "execution_count": 2,
   "id": "e9d4b4e2",
   "metadata": {},
   "outputs": [],
   "source": [
    "# Read all the data sets\n",
    "\n",
    "set2_human = pd.read_json('dataset/set2_human.json')\n",
    "set2_machine = pd.read_json('dataset/set2_machine.json')\n",
    "set_test = pd.read_json('dataset/test.json')\n",
    "\n",
    "# Add in label for all data sets\n",
    "set2_human = set2_human.assign(label=1)\n",
    "set2_machine = set2_machine.assign(label=0)"
   ]
  },
  {
   "cell_type": "code",
   "execution_count": 3,
   "id": "415b67b3",
   "metadata": {
    "scrolled": false
   },
   "outputs": [
    {
     "data": {
      "text/plain": [
       "count     500.000000\n",
       "mean      574.574000\n",
       "std       344.272933\n",
       "min        50.000000\n",
       "25%       278.250000\n",
       "50%       485.500000\n",
       "75%       803.000000\n",
       "max      1496.000000\n",
       "Name: txt, dtype: float64"
      ]
     },
     "execution_count": 3,
     "metadata": {},
     "output_type": "execute_result"
    }
   ],
   "source": [
    "pd.concat([set2_human, set2_machine])['txt'].str.len().describe()"
   ]
  },
  {
   "cell_type": "code",
   "execution_count": 4,
   "id": "582346eb",
   "metadata": {},
   "outputs": [],
   "source": [
    "from sklearn.feature_extraction.text import CountVectorizer, TfidfVectorizer\n",
    "from sklearn.feature_extraction import DictVectorizer\n",
    "from sklearn.model_selection import train_test_split, StratifiedShuffleSplit\n",
    "\n",
    "def preprocess(x_set):\n",
    "    x_set['txt'] = x_set['txt'].apply(lambda x: ' '.join(map(str, x)))\n",
    "    vectorizer = CountVectorizer()\n",
    "    vectorized_words = vectorizer.fit_transform(x_set['txt'])\n",
    "    x_set_vectorized = pd.DataFrame(vectorized_words.toarray())\n",
    "    return x_set_vectorized"
   ]
  },
  {
   "cell_type": "code",
   "execution_count": 5,
   "id": "ea58aef4",
   "metadata": {},
   "outputs": [],
   "source": [
    "from sklearn import metrics\n",
    "from sklearn.metrics import f1_score, accuracy_score, classification_report, confusion_matrix\n",
    "from sklearn.dummy import DummyClassifier\n",
    "from sklearn.linear_model import LogisticRegression\n",
    "from sklearn.svm import SVC\n",
    "from sklearn.ensemble import RandomForestClassifier\n",
    "from sklearn.ensemble import AdaBoostClassifier\n",
    "from sklearn.ensemble import StackingClassifier\n",
    "from sklearn.naive_bayes import GaussianNB\n",
    "import lightgbm as lgb\n",
    "\n",
    "def predict(classifier, x_set_train, y_set_train, x_set_test, y_set_test):\n",
    "    classifier.fit(x_set_train, y_set_train)\n",
    "\n",
    "    y_pred = classifier.predict(x_set_test)\n",
    "    \n",
    "    print(classification_report(y_pred, y_set_test))\n",
    "    #cm_display = metrics.ConfusionMatrixDisplay(confusion_matrix = confusion_matrix(y_set_test, y_pred))\n",
    "    #cm_display.plot();\n",
    "    \n",
    "    return f1_score(y_pred, y_set_test, average='macro')"
   ]
  },
  {
   "cell_type": "code",
   "execution_count": 6,
   "id": "7a88fc56",
   "metadata": {},
   "outputs": [],
   "source": [
    "def test_5_times(set2_human, set2_machine, classifier):\n",
    "    F1_score = []\n",
    "    for i in range(0, 5):\n",
    "        set2 = pd.concat([set2_human, set2_machine.sample(100)])\n",
    "        x_set2 = pd.DataFrame(set2[['txt', 'prompt']])\n",
    "        y_set2 = pd.DataFrame(set2[['label']])\n",
    "        new_x_set2 = preprocess(x_set2)\n",
    "        x_set2_train, x_set2_test, y_set2_train, y_set2_test= train_test_split(new_x_set2, y_set2, test_size=0.2, stratify=y_set2)\n",
    "        F1_score.append(predict(classifier, x_set2_train,  y_set2_train, x_set2_test, y_set2_test))\n",
    "    \n",
    "    return sum(F1_score) / len(F1_score)"
   ]
  },
  {
   "cell_type": "code",
   "execution_count": 7,
   "id": "9f84eece",
   "metadata": {
    "scrolled": true
   },
   "outputs": [
    {
     "name": "stderr",
     "output_type": "stream",
     "text": [
      "/home/jiaming/.local/lib/python3.8/site-packages/sklearn/utils/validation.py:1111: DataConversionWarning: A column-vector y was passed when a 1d array was expected. Please change the shape of y to (n_samples, ), for example using ravel().\n",
      "  y = column_or_1d(y, warn=True)\n",
      "/home/jiaming/.local/lib/python3.8/site-packages/sklearn/utils/validation.py:1111: DataConversionWarning: A column-vector y was passed when a 1d array was expected. Please change the shape of y to (n_samples, ), for example using ravel().\n",
      "  y = column_or_1d(y, warn=True)\n"
     ]
    },
    {
     "name": "stdout",
     "output_type": "stream",
     "text": [
      "              precision    recall  f1-score   support\n",
      "\n",
      "           0       0.60      0.52      0.56        23\n",
      "           1       0.45      0.53      0.49        17\n",
      "\n",
      "    accuracy                           0.53        40\n",
      "   macro avg       0.53      0.53      0.52        40\n",
      "weighted avg       0.54      0.53      0.53        40\n",
      "\n",
      "              precision    recall  f1-score   support\n",
      "\n",
      "           0       0.55      0.55      0.55        20\n",
      "           1       0.55      0.55      0.55        20\n",
      "\n",
      "    accuracy                           0.55        40\n",
      "   macro avg       0.55      0.55      0.55        40\n",
      "weighted avg       0.55      0.55      0.55        40\n",
      "\n"
     ]
    },
    {
     "name": "stderr",
     "output_type": "stream",
     "text": [
      "/home/jiaming/.local/lib/python3.8/site-packages/sklearn/utils/validation.py:1111: DataConversionWarning: A column-vector y was passed when a 1d array was expected. Please change the shape of y to (n_samples, ), for example using ravel().\n",
      "  y = column_or_1d(y, warn=True)\n",
      "/home/jiaming/.local/lib/python3.8/site-packages/sklearn/utils/validation.py:1111: DataConversionWarning: A column-vector y was passed when a 1d array was expected. Please change the shape of y to (n_samples, ), for example using ravel().\n",
      "  y = column_or_1d(y, warn=True)\n"
     ]
    },
    {
     "name": "stdout",
     "output_type": "stream",
     "text": [
      "              precision    recall  f1-score   support\n",
      "\n",
      "           0       0.85      0.74      0.79        23\n",
      "           1       0.70      0.82      0.76        17\n",
      "\n",
      "    accuracy                           0.78        40\n",
      "   macro avg       0.77      0.78      0.77        40\n",
      "weighted avg       0.79      0.78      0.78        40\n",
      "\n",
      "              precision    recall  f1-score   support\n",
      "\n",
      "           0       0.35      0.64      0.45        11\n",
      "           1       0.80      0.55      0.65        29\n",
      "\n",
      "    accuracy                           0.57        40\n",
      "   macro avg       0.57      0.59      0.55        40\n",
      "weighted avg       0.68      0.57      0.60        40\n",
      "\n",
      "              precision    recall  f1-score   support\n",
      "\n",
      "           0       0.55      0.69      0.61        16\n",
      "           1       0.75      0.62      0.68        24\n",
      "\n",
      "    accuracy                           0.65        40\n",
      "   macro avg       0.65      0.66      0.65        40\n",
      "weighted avg       0.67      0.65      0.65        40\n",
      "\n"
     ]
    },
    {
     "name": "stderr",
     "output_type": "stream",
     "text": [
      "/home/jiaming/.local/lib/python3.8/site-packages/sklearn/utils/validation.py:1111: DataConversionWarning: A column-vector y was passed when a 1d array was expected. Please change the shape of y to (n_samples, ), for example using ravel().\n",
      "  y = column_or_1d(y, warn=True)\n"
     ]
    },
    {
     "data": {
      "text/plain": [
       "0.6089683873190463"
      ]
     },
     "execution_count": 7,
     "metadata": {},
     "output_type": "execute_result"
    }
   ],
   "source": [
    "test_5_times(set2_human, set2_machine, SVC())"
   ]
  },
  {
   "cell_type": "code",
   "execution_count": 8,
   "id": "e21f1c60",
   "metadata": {
    "scrolled": true
   },
   "outputs": [
    {
     "name": "stderr",
     "output_type": "stream",
     "text": [
      "/home/jiaming/.local/lib/python3.8/site-packages/sklearn/utils/validation.py:1111: DataConversionWarning: A column-vector y was passed when a 1d array was expected. Please change the shape of y to (n_samples, ), for example using ravel().\n",
      "  y = column_or_1d(y, warn=True)\n",
      "/home/jiaming/.local/lib/python3.8/site-packages/sklearn/linear_model/_logistic.py:444: ConvergenceWarning: lbfgs failed to converge (status=1):\n",
      "STOP: TOTAL NO. of ITERATIONS REACHED LIMIT.\n",
      "\n",
      "Increase the number of iterations (max_iter) or scale the data as shown in:\n",
      "    https://scikit-learn.org/stable/modules/preprocessing.html\n",
      "Please also refer to the documentation for alternative solver options:\n",
      "    https://scikit-learn.org/stable/modules/linear_model.html#logistic-regression\n",
      "  n_iter_i = _check_optimize_result(\n"
     ]
    },
    {
     "name": "stdout",
     "output_type": "stream",
     "text": [
      "              precision    recall  f1-score   support\n",
      "\n",
      "           0       0.60      0.60      0.60        20\n",
      "           1       0.60      0.60      0.60        20\n",
      "\n",
      "    accuracy                           0.60        40\n",
      "   macro avg       0.60      0.60      0.60        40\n",
      "weighted avg       0.60      0.60      0.60        40\n",
      "\n"
     ]
    },
    {
     "name": "stderr",
     "output_type": "stream",
     "text": [
      "/home/jiaming/.local/lib/python3.8/site-packages/sklearn/utils/validation.py:1111: DataConversionWarning: A column-vector y was passed when a 1d array was expected. Please change the shape of y to (n_samples, ), for example using ravel().\n",
      "  y = column_or_1d(y, warn=True)\n",
      "/home/jiaming/.local/lib/python3.8/site-packages/sklearn/linear_model/_logistic.py:444: ConvergenceWarning: lbfgs failed to converge (status=1):\n",
      "STOP: TOTAL NO. of ITERATIONS REACHED LIMIT.\n",
      "\n",
      "Increase the number of iterations (max_iter) or scale the data as shown in:\n",
      "    https://scikit-learn.org/stable/modules/preprocessing.html\n",
      "Please also refer to the documentation for alternative solver options:\n",
      "    https://scikit-learn.org/stable/modules/linear_model.html#logistic-regression\n",
      "  n_iter_i = _check_optimize_result(\n"
     ]
    },
    {
     "name": "stdout",
     "output_type": "stream",
     "text": [
      "              precision    recall  f1-score   support\n",
      "\n",
      "           0       0.70      0.58      0.64        24\n",
      "           1       0.50      0.62      0.56        16\n",
      "\n",
      "    accuracy                           0.60        40\n",
      "   macro avg       0.60      0.60      0.60        40\n",
      "weighted avg       0.62      0.60      0.60        40\n",
      "\n"
     ]
    },
    {
     "name": "stderr",
     "output_type": "stream",
     "text": [
      "/home/jiaming/.local/lib/python3.8/site-packages/sklearn/utils/validation.py:1111: DataConversionWarning: A column-vector y was passed when a 1d array was expected. Please change the shape of y to (n_samples, ), for example using ravel().\n",
      "  y = column_or_1d(y, warn=True)\n",
      "/home/jiaming/.local/lib/python3.8/site-packages/sklearn/linear_model/_logistic.py:444: ConvergenceWarning: lbfgs failed to converge (status=1):\n",
      "STOP: TOTAL NO. of ITERATIONS REACHED LIMIT.\n",
      "\n",
      "Increase the number of iterations (max_iter) or scale the data as shown in:\n",
      "    https://scikit-learn.org/stable/modules/preprocessing.html\n",
      "Please also refer to the documentation for alternative solver options:\n",
      "    https://scikit-learn.org/stable/modules/linear_model.html#logistic-regression\n",
      "  n_iter_i = _check_optimize_result(\n"
     ]
    },
    {
     "name": "stdout",
     "output_type": "stream",
     "text": [
      "              precision    recall  f1-score   support\n",
      "\n",
      "           0       0.70      0.61      0.65        23\n",
      "           1       0.55      0.65      0.59        17\n",
      "\n",
      "    accuracy                           0.62        40\n",
      "   macro avg       0.62      0.63      0.62        40\n",
      "weighted avg       0.64      0.62      0.63        40\n",
      "\n"
     ]
    },
    {
     "name": "stderr",
     "output_type": "stream",
     "text": [
      "/home/jiaming/.local/lib/python3.8/site-packages/sklearn/utils/validation.py:1111: DataConversionWarning: A column-vector y was passed when a 1d array was expected. Please change the shape of y to (n_samples, ), for example using ravel().\n",
      "  y = column_or_1d(y, warn=True)\n",
      "/home/jiaming/.local/lib/python3.8/site-packages/sklearn/linear_model/_logistic.py:444: ConvergenceWarning: lbfgs failed to converge (status=1):\n",
      "STOP: TOTAL NO. of ITERATIONS REACHED LIMIT.\n",
      "\n",
      "Increase the number of iterations (max_iter) or scale the data as shown in:\n",
      "    https://scikit-learn.org/stable/modules/preprocessing.html\n",
      "Please also refer to the documentation for alternative solver options:\n",
      "    https://scikit-learn.org/stable/modules/linear_model.html#logistic-regression\n",
      "  n_iter_i = _check_optimize_result(\n"
     ]
    },
    {
     "name": "stdout",
     "output_type": "stream",
     "text": [
      "              precision    recall  f1-score   support\n",
      "\n",
      "           0       0.70      0.61      0.65        23\n",
      "           1       0.55      0.65      0.59        17\n",
      "\n",
      "    accuracy                           0.62        40\n",
      "   macro avg       0.62      0.63      0.62        40\n",
      "weighted avg       0.64      0.62      0.63        40\n",
      "\n",
      "              precision    recall  f1-score   support\n",
      "\n",
      "           0       0.65      0.57      0.60        23\n",
      "           1       0.50      0.59      0.54        17\n",
      "\n",
      "    accuracy                           0.57        40\n",
      "   macro avg       0.57      0.58      0.57        40\n",
      "weighted avg       0.59      0.57      0.58        40\n",
      "\n"
     ]
    },
    {
     "name": "stderr",
     "output_type": "stream",
     "text": [
      "/home/jiaming/.local/lib/python3.8/site-packages/sklearn/utils/validation.py:1111: DataConversionWarning: A column-vector y was passed when a 1d array was expected. Please change the shape of y to (n_samples, ), for example using ravel().\n",
      "  y = column_or_1d(y, warn=True)\n"
     ]
    },
    {
     "data": {
      "text/plain": [
       "0.6028625665834968"
      ]
     },
     "execution_count": 8,
     "metadata": {},
     "output_type": "execute_result"
    }
   ],
   "source": [
    "test_5_times(set2_human, set2_machine, LogisticRegression())"
   ]
  },
  {
   "cell_type": "code",
   "execution_count": 9,
   "id": "2f694d20",
   "metadata": {
    "scrolled": true
   },
   "outputs": [
    {
     "name": "stderr",
     "output_type": "stream",
     "text": [
      "/tmp/ipykernel_106/156337231.py:13: DataConversionWarning: A column-vector y was passed when a 1d array was expected. Please change the shape of y to (n_samples,), for example using ravel().\n",
      "  classifier.fit(x_set_train, y_set_train)\n"
     ]
    },
    {
     "name": "stdout",
     "output_type": "stream",
     "text": [
      "              precision    recall  f1-score   support\n",
      "\n",
      "           0       0.60      0.67      0.63        18\n",
      "           1       0.70      0.64      0.67        22\n",
      "\n",
      "    accuracy                           0.65        40\n",
      "   macro avg       0.65      0.65      0.65        40\n",
      "weighted avg       0.65      0.65      0.65        40\n",
      "\n"
     ]
    },
    {
     "name": "stderr",
     "output_type": "stream",
     "text": [
      "/tmp/ipykernel_106/156337231.py:13: DataConversionWarning: A column-vector y was passed when a 1d array was expected. Please change the shape of y to (n_samples,), for example using ravel().\n",
      "  classifier.fit(x_set_train, y_set_train)\n"
     ]
    },
    {
     "name": "stdout",
     "output_type": "stream",
     "text": [
      "              precision    recall  f1-score   support\n",
      "\n",
      "           0       0.60      0.63      0.62        19\n",
      "           1       0.65      0.62      0.63        21\n",
      "\n",
      "    accuracy                           0.62        40\n",
      "   macro avg       0.62      0.63      0.62        40\n",
      "weighted avg       0.63      0.62      0.63        40\n",
      "\n"
     ]
    },
    {
     "name": "stderr",
     "output_type": "stream",
     "text": [
      "/tmp/ipykernel_106/156337231.py:13: DataConversionWarning: A column-vector y was passed when a 1d array was expected. Please change the shape of y to (n_samples,), for example using ravel().\n",
      "  classifier.fit(x_set_train, y_set_train)\n"
     ]
    },
    {
     "name": "stdout",
     "output_type": "stream",
     "text": [
      "              precision    recall  f1-score   support\n",
      "\n",
      "           0       0.55      0.69      0.61        16\n",
      "           1       0.75      0.62      0.68        24\n",
      "\n",
      "    accuracy                           0.65        40\n",
      "   macro avg       0.65      0.66      0.65        40\n",
      "weighted avg       0.67      0.65      0.65        40\n",
      "\n"
     ]
    },
    {
     "name": "stderr",
     "output_type": "stream",
     "text": [
      "/tmp/ipykernel_106/156337231.py:13: DataConversionWarning: A column-vector y was passed when a 1d array was expected. Please change the shape of y to (n_samples,), for example using ravel().\n",
      "  classifier.fit(x_set_train, y_set_train)\n"
     ]
    },
    {
     "name": "stdout",
     "output_type": "stream",
     "text": [
      "              precision    recall  f1-score   support\n",
      "\n",
      "           0       0.55      0.58      0.56        19\n",
      "           1       0.60      0.57      0.59        21\n",
      "\n",
      "    accuracy                           0.57        40\n",
      "   macro avg       0.57      0.58      0.57        40\n",
      "weighted avg       0.58      0.57      0.58        40\n",
      "\n",
      "              precision    recall  f1-score   support\n",
      "\n",
      "           0       0.45      0.56      0.50        16\n",
      "           1       0.65      0.54      0.59        24\n",
      "\n",
      "    accuracy                           0.55        40\n",
      "   macro avg       0.55      0.55      0.55        40\n",
      "weighted avg       0.57      0.55      0.55        40\n",
      "\n"
     ]
    },
    {
     "name": "stderr",
     "output_type": "stream",
     "text": [
      "/tmp/ipykernel_106/156337231.py:13: DataConversionWarning: A column-vector y was passed when a 1d array was expected. Please change the shape of y to (n_samples,), for example using ravel().\n",
      "  classifier.fit(x_set_train, y_set_train)\n"
     ]
    },
    {
     "data": {
      "text/plain": [
       "0.6081083372482602"
      ]
     },
     "execution_count": 9,
     "metadata": {},
     "output_type": "execute_result"
    }
   ],
   "source": [
    "test_5_times(set2_human, set2_machine, RandomForestClassifier())"
   ]
  },
  {
   "cell_type": "code",
   "execution_count": 10,
   "id": "cbf8d0ea",
   "metadata": {
    "scrolled": false
   },
   "outputs": [
    {
     "name": "stderr",
     "output_type": "stream",
     "text": [
      "/home/jiaming/.local/lib/python3.8/site-packages/sklearn/utils/validation.py:1111: DataConversionWarning: A column-vector y was passed when a 1d array was expected. Please change the shape of y to (n_samples, ), for example using ravel().\n",
      "  y = column_or_1d(y, warn=True)\n"
     ]
    },
    {
     "name": "stdout",
     "output_type": "stream",
     "text": [
      "              precision    recall  f1-score   support\n",
      "\n",
      "           0       0.80      0.62      0.70        26\n",
      "           1       0.50      0.71      0.59        14\n",
      "\n",
      "    accuracy                           0.65        40\n",
      "   macro avg       0.65      0.66      0.64        40\n",
      "weighted avg       0.70      0.65      0.66        40\n",
      "\n"
     ]
    },
    {
     "name": "stderr",
     "output_type": "stream",
     "text": [
      "/home/jiaming/.local/lib/python3.8/site-packages/sklearn/utils/validation.py:1111: DataConversionWarning: A column-vector y was passed when a 1d array was expected. Please change the shape of y to (n_samples, ), for example using ravel().\n",
      "  y = column_or_1d(y, warn=True)\n"
     ]
    },
    {
     "name": "stdout",
     "output_type": "stream",
     "text": [
      "              precision    recall  f1-score   support\n",
      "\n",
      "           0       0.60      0.63      0.62        19\n",
      "           1       0.65      0.62      0.63        21\n",
      "\n",
      "    accuracy                           0.62        40\n",
      "   macro avg       0.62      0.63      0.62        40\n",
      "weighted avg       0.63      0.62      0.63        40\n",
      "\n"
     ]
    },
    {
     "name": "stderr",
     "output_type": "stream",
     "text": [
      "/home/jiaming/.local/lib/python3.8/site-packages/sklearn/utils/validation.py:1111: DataConversionWarning: A column-vector y was passed when a 1d array was expected. Please change the shape of y to (n_samples, ), for example using ravel().\n",
      "  y = column_or_1d(y, warn=True)\n"
     ]
    },
    {
     "name": "stdout",
     "output_type": "stream",
     "text": [
      "              precision    recall  f1-score   support\n",
      "\n",
      "           0       0.70      0.58      0.64        24\n",
      "           1       0.50      0.62      0.56        16\n",
      "\n",
      "    accuracy                           0.60        40\n",
      "   macro avg       0.60      0.60      0.60        40\n",
      "weighted avg       0.62      0.60      0.60        40\n",
      "\n"
     ]
    },
    {
     "name": "stderr",
     "output_type": "stream",
     "text": [
      "/home/jiaming/.local/lib/python3.8/site-packages/sklearn/utils/validation.py:1111: DataConversionWarning: A column-vector y was passed when a 1d array was expected. Please change the shape of y to (n_samples, ), for example using ravel().\n",
      "  y = column_or_1d(y, warn=True)\n"
     ]
    },
    {
     "name": "stdout",
     "output_type": "stream",
     "text": [
      "              precision    recall  f1-score   support\n",
      "\n",
      "           0       0.55      0.52      0.54        21\n",
      "           1       0.50      0.53      0.51        19\n",
      "\n",
      "    accuracy                           0.53        40\n",
      "   macro avg       0.53      0.53      0.52        40\n",
      "weighted avg       0.53      0.53      0.53        40\n",
      "\n"
     ]
    },
    {
     "name": "stderr",
     "output_type": "stream",
     "text": [
      "/home/jiaming/.local/lib/python3.8/site-packages/sklearn/utils/validation.py:1111: DataConversionWarning: A column-vector y was passed when a 1d array was expected. Please change the shape of y to (n_samples, ), for example using ravel().\n",
      "  y = column_or_1d(y, warn=True)\n"
     ]
    },
    {
     "name": "stdout",
     "output_type": "stream",
     "text": [
      "              precision    recall  f1-score   support\n",
      "\n",
      "           0       0.75      0.62      0.68        24\n",
      "           1       0.55      0.69      0.61        16\n",
      "\n",
      "    accuracy                           0.65        40\n",
      "   macro avg       0.65      0.66      0.65        40\n",
      "weighted avg       0.67      0.65      0.65        40\n",
      "\n"
     ]
    },
    {
     "data": {
      "text/plain": [
       "0.6067672788401376"
      ]
     },
     "execution_count": 10,
     "metadata": {},
     "output_type": "execute_result"
    }
   ],
   "source": [
    "test_5_times(set2_human, set2_machine,AdaBoostClassifier())"
   ]
  },
  {
   "cell_type": "code",
   "execution_count": 11,
   "id": "2c2caf87",
   "metadata": {
    "scrolled": true
   },
   "outputs": [
    {
     "name": "stdout",
     "output_type": "stream",
     "text": [
      "              precision    recall  f1-score   support\n",
      "\n",
      "           0       0.35      0.58      0.44        12\n",
      "           1       0.75      0.54      0.63        28\n",
      "\n",
      "    accuracy                           0.55        40\n",
      "   macro avg       0.55      0.56      0.53        40\n",
      "weighted avg       0.63      0.55      0.57        40\n",
      "\n"
     ]
    },
    {
     "name": "stderr",
     "output_type": "stream",
     "text": [
      "/home/jiaming/.local/lib/python3.8/site-packages/sklearn/utils/validation.py:1111: DataConversionWarning: A column-vector y was passed when a 1d array was expected. Please change the shape of y to (n_samples, ), for example using ravel().\n",
      "  y = column_or_1d(y, warn=True)\n",
      "/home/jiaming/.local/lib/python3.8/site-packages/sklearn/utils/validation.py:1111: DataConversionWarning: A column-vector y was passed when a 1d array was expected. Please change the shape of y to (n_samples, ), for example using ravel().\n",
      "  y = column_or_1d(y, warn=True)\n"
     ]
    },
    {
     "name": "stdout",
     "output_type": "stream",
     "text": [
      "              precision    recall  f1-score   support\n",
      "\n",
      "           0       0.35      0.70      0.47        10\n",
      "           1       0.85      0.57      0.68        30\n",
      "\n",
      "    accuracy                           0.60        40\n",
      "   macro avg       0.60      0.63      0.57        40\n",
      "weighted avg       0.72      0.60      0.63        40\n",
      "\n",
      "              precision    recall  f1-score   support\n",
      "\n",
      "           0       0.25      0.45      0.32        11\n",
      "           1       0.70      0.48      0.57        29\n",
      "\n",
      "    accuracy                           0.48        40\n",
      "   macro avg       0.47      0.47      0.45        40\n",
      "weighted avg       0.58      0.47      0.50        40\n",
      "\n"
     ]
    },
    {
     "name": "stderr",
     "output_type": "stream",
     "text": [
      "/home/jiaming/.local/lib/python3.8/site-packages/sklearn/utils/validation.py:1111: DataConversionWarning: A column-vector y was passed when a 1d array was expected. Please change the shape of y to (n_samples, ), for example using ravel().\n",
      "  y = column_or_1d(y, warn=True)\n",
      "/home/jiaming/.local/lib/python3.8/site-packages/sklearn/utils/validation.py:1111: DataConversionWarning: A column-vector y was passed when a 1d array was expected. Please change the shape of y to (n_samples, ), for example using ravel().\n",
      "  y = column_or_1d(y, warn=True)\n"
     ]
    },
    {
     "name": "stdout",
     "output_type": "stream",
     "text": [
      "              precision    recall  f1-score   support\n",
      "\n",
      "           0       0.30      0.55      0.39        11\n",
      "           1       0.75      0.52      0.61        29\n",
      "\n",
      "    accuracy                           0.53        40\n",
      "   macro avg       0.53      0.53      0.50        40\n",
      "weighted avg       0.63      0.53      0.55        40\n",
      "\n",
      "              precision    recall  f1-score   support\n",
      "\n",
      "           0       0.40      0.57      0.47        14\n",
      "           1       0.70      0.54      0.61        26\n",
      "\n",
      "    accuracy                           0.55        40\n",
      "   macro avg       0.55      0.55      0.54        40\n",
      "weighted avg       0.59      0.55      0.56        40\n",
      "\n"
     ]
    },
    {
     "name": "stderr",
     "output_type": "stream",
     "text": [
      "/home/jiaming/.local/lib/python3.8/site-packages/sklearn/utils/validation.py:1111: DataConversionWarning: A column-vector y was passed when a 1d array was expected. Please change the shape of y to (n_samples, ), for example using ravel().\n",
      "  y = column_or_1d(y, warn=True)\n"
     ]
    },
    {
     "data": {
      "text/plain": [
       "0.5181801442877292"
      ]
     },
     "execution_count": 11,
     "metadata": {},
     "output_type": "execute_result"
    }
   ],
   "source": [
    "test_5_times(set2_human, set2_machine, GaussianNB())"
   ]
  },
  {
   "cell_type": "code",
   "execution_count": 12,
   "id": "d912ebcc",
   "metadata": {},
   "outputs": [],
   "source": [
    "set2 = pd.concat([set2_human, set2_machine.sample(100)])\n",
    "x_set2 = pd.DataFrame(set2[['txt', 'prompt']])\n",
    "y_set2 = pd.DataFrame(set2[['label']])\n",
    "new_x_set2 = preprocess(x_set2)\n",
    "x_set2_train, x_set2_test, y_set2_train, y_set2_test= train_test_split(new_x_set2, y_set2, test_size=0.3, stratify=y_set2)"
   ]
  },
  {
   "cell_type": "code",
   "execution_count": 13,
   "id": "079bfadb",
   "metadata": {
    "scrolled": true
   },
   "outputs": [
    {
     "name": "stderr",
     "output_type": "stream",
     "text": [
      "/tmp/ipykernel_106/156337231.py:13: DataConversionWarning: A column-vector y was passed when a 1d array was expected. Please change the shape of y to (n_samples,), for example using ravel().\n",
      "  classifier.fit(x_set_train, y_set_train)\n",
      "/tmp/ipykernel_106/156337231.py:13: DataConversionWarning: A column-vector y was passed when a 1d array was expected. Please change the shape of y to (n_samples,), for example using ravel().\n",
      "  classifier.fit(x_set_train, y_set_train)\n"
     ]
    },
    {
     "name": "stdout",
     "output_type": "stream",
     "text": [
      "              precision    recall  f1-score   support\n",
      "\n",
      "           0       0.53      0.76      0.63        21\n",
      "           1       0.83      0.64      0.72        39\n",
      "\n",
      "    accuracy                           0.68        60\n",
      "   macro avg       0.68      0.70      0.68        60\n",
      "weighted avg       0.73      0.68      0.69        60\n",
      "\n",
      "              precision    recall  f1-score   support\n",
      "\n",
      "           0       0.53      0.73      0.62        22\n",
      "           1       0.80      0.63      0.71        38\n",
      "\n",
      "    accuracy                           0.67        60\n",
      "   macro avg       0.67      0.68      0.66        60\n",
      "weighted avg       0.70      0.67      0.67        60\n",
      "\n"
     ]
    },
    {
     "name": "stderr",
     "output_type": "stream",
     "text": [
      "/tmp/ipykernel_106/156337231.py:13: DataConversionWarning: A column-vector y was passed when a 1d array was expected. Please change the shape of y to (n_samples,), for example using ravel().\n",
      "  classifier.fit(x_set_train, y_set_train)\n",
      "/tmp/ipykernel_106/156337231.py:13: DataConversionWarning: A column-vector y was passed when a 1d array was expected. Please change the shape of y to (n_samples,), for example using ravel().\n",
      "  classifier.fit(x_set_train, y_set_train)\n"
     ]
    },
    {
     "name": "stdout",
     "output_type": "stream",
     "text": [
      "              precision    recall  f1-score   support\n",
      "\n",
      "           0       0.43      0.65      0.52        20\n",
      "           1       0.77      0.57      0.66        40\n",
      "\n",
      "    accuracy                           0.60        60\n",
      "   macro avg       0.60      0.61      0.59        60\n",
      "weighted avg       0.66      0.60      0.61        60\n",
      "\n",
      "              precision    recall  f1-score   support\n",
      "\n",
      "           0       0.50      0.71      0.59        21\n",
      "           1       0.80      0.62      0.70        39\n",
      "\n",
      "    accuracy                           0.65        60\n",
      "   macro avg       0.65      0.66      0.64        60\n",
      "weighted avg       0.70      0.65      0.66        60\n",
      "\n"
     ]
    },
    {
     "name": "stderr",
     "output_type": "stream",
     "text": [
      "/tmp/ipykernel_106/156337231.py:13: DataConversionWarning: A column-vector y was passed when a 1d array was expected. Please change the shape of y to (n_samples,), for example using ravel().\n",
      "  classifier.fit(x_set_train, y_set_train)\n",
      "/tmp/ipykernel_106/156337231.py:13: DataConversionWarning: A column-vector y was passed when a 1d array was expected. Please change the shape of y to (n_samples,), for example using ravel().\n",
      "  classifier.fit(x_set_train, y_set_train)\n"
     ]
    },
    {
     "name": "stdout",
     "output_type": "stream",
     "text": [
      "              precision    recall  f1-score   support\n",
      "\n",
      "           0       0.43      0.72      0.54        18\n",
      "           1       0.83      0.60      0.69        42\n",
      "\n",
      "    accuracy                           0.63        60\n",
      "   macro avg       0.63      0.66      0.62        60\n",
      "weighted avg       0.71      0.63      0.65        60\n",
      "\n",
      "              precision    recall  f1-score   support\n",
      "\n",
      "           0       0.47      0.67      0.55        21\n",
      "           1       0.77      0.59      0.67        39\n",
      "\n",
      "    accuracy                           0.62        60\n",
      "   macro avg       0.62      0.63      0.61        60\n",
      "weighted avg       0.66      0.62      0.63        60\n",
      "\n"
     ]
    },
    {
     "name": "stderr",
     "output_type": "stream",
     "text": [
      "/tmp/ipykernel_106/156337231.py:13: DataConversionWarning: A column-vector y was passed when a 1d array was expected. Please change the shape of y to (n_samples,), for example using ravel().\n",
      "  classifier.fit(x_set_train, y_set_train)\n",
      "/tmp/ipykernel_106/156337231.py:13: DataConversionWarning: A column-vector y was passed when a 1d array was expected. Please change the shape of y to (n_samples,), for example using ravel().\n",
      "  classifier.fit(x_set_train, y_set_train)\n"
     ]
    },
    {
     "name": "stdout",
     "output_type": "stream",
     "text": [
      "              precision    recall  f1-score   support\n",
      "\n",
      "           0       0.43      0.65      0.52        20\n",
      "           1       0.77      0.57      0.66        40\n",
      "\n",
      "    accuracy                           0.60        60\n",
      "   macro avg       0.60      0.61      0.59        60\n",
      "weighted avg       0.66      0.60      0.61        60\n",
      "\n",
      "              precision    recall  f1-score   support\n",
      "\n",
      "           0       0.57      0.71      0.63        24\n",
      "           1       0.77      0.64      0.70        36\n",
      "\n",
      "    accuracy                           0.67        60\n",
      "   macro avg       0.67      0.67      0.66        60\n",
      "weighted avg       0.69      0.67      0.67        60\n",
      "\n"
     ]
    },
    {
     "name": "stderr",
     "output_type": "stream",
     "text": [
      "/tmp/ipykernel_106/156337231.py:13: DataConversionWarning: A column-vector y was passed when a 1d array was expected. Please change the shape of y to (n_samples,), for example using ravel().\n",
      "  classifier.fit(x_set_train, y_set_train)\n",
      "/tmp/ipykernel_106/156337231.py:13: DataConversionWarning: A column-vector y was passed when a 1d array was expected. Please change the shape of y to (n_samples,), for example using ravel().\n",
      "  classifier.fit(x_set_train, y_set_train)\n"
     ]
    },
    {
     "name": "stdout",
     "output_type": "stream",
     "text": [
      "              precision    recall  f1-score   support\n",
      "\n",
      "           0       0.47      0.67      0.55        21\n",
      "           1       0.77      0.59      0.67        39\n",
      "\n",
      "    accuracy                           0.62        60\n",
      "   macro avg       0.62      0.63      0.61        60\n",
      "weighted avg       0.66      0.62      0.63        60\n",
      "\n",
      "              precision    recall  f1-score   support\n",
      "\n",
      "           0       0.53      0.73      0.62        22\n",
      "           1       0.80      0.63      0.71        38\n",
      "\n",
      "    accuracy                           0.67        60\n",
      "   macro avg       0.67      0.68      0.66        60\n",
      "weighted avg       0.70      0.67      0.67        60\n",
      "\n"
     ]
    },
    {
     "name": "stderr",
     "output_type": "stream",
     "text": [
      "/tmp/ipykernel_106/156337231.py:13: DataConversionWarning: A column-vector y was passed when a 1d array was expected. Please change the shape of y to (n_samples,), for example using ravel().\n",
      "  classifier.fit(x_set_train, y_set_train)\n",
      "/tmp/ipykernel_106/156337231.py:13: DataConversionWarning: A column-vector y was passed when a 1d array was expected. Please change the shape of y to (n_samples,), for example using ravel().\n",
      "  classifier.fit(x_set_train, y_set_train)\n"
     ]
    },
    {
     "name": "stdout",
     "output_type": "stream",
     "text": [
      "              precision    recall  f1-score   support\n",
      "\n",
      "           0       0.43      0.68      0.53        19\n",
      "           1       0.80      0.59      0.68        41\n",
      "\n",
      "    accuracy                           0.62        60\n",
      "   macro avg       0.62      0.63      0.60        60\n",
      "weighted avg       0.68      0.62      0.63        60\n",
      "\n",
      "              precision    recall  f1-score   support\n",
      "\n",
      "           0       0.50      0.71      0.59        21\n",
      "           1       0.80      0.62      0.70        39\n",
      "\n",
      "    accuracy                           0.65        60\n",
      "   macro avg       0.65      0.66      0.64        60\n",
      "weighted avg       0.70      0.65      0.66        60\n",
      "\n"
     ]
    },
    {
     "name": "stderr",
     "output_type": "stream",
     "text": [
      "/tmp/ipykernel_106/156337231.py:13: DataConversionWarning: A column-vector y was passed when a 1d array was expected. Please change the shape of y to (n_samples,), for example using ravel().\n",
      "  classifier.fit(x_set_train, y_set_train)\n",
      "/tmp/ipykernel_106/156337231.py:13: DataConversionWarning: A column-vector y was passed when a 1d array was expected. Please change the shape of y to (n_samples,), for example using ravel().\n",
      "  classifier.fit(x_set_train, y_set_train)\n"
     ]
    },
    {
     "name": "stdout",
     "output_type": "stream",
     "text": [
      "              precision    recall  f1-score   support\n",
      "\n",
      "           0       0.50      0.68      0.58        22\n",
      "           1       0.77      0.61      0.68        38\n",
      "\n",
      "    accuracy                           0.63        60\n",
      "   macro avg       0.63      0.64      0.63        60\n",
      "weighted avg       0.67      0.63      0.64        60\n",
      "\n",
      "              precision    recall  f1-score   support\n",
      "\n",
      "           0       0.50      0.68      0.58        22\n",
      "           1       0.77      0.61      0.68        38\n",
      "\n",
      "    accuracy                           0.63        60\n",
      "   macro avg       0.63      0.64      0.63        60\n",
      "weighted avg       0.67      0.63      0.64        60\n",
      "\n"
     ]
    },
    {
     "name": "stderr",
     "output_type": "stream",
     "text": [
      "/tmp/ipykernel_106/156337231.py:13: DataConversionWarning: A column-vector y was passed when a 1d array was expected. Please change the shape of y to (n_samples,), for example using ravel().\n",
      "  classifier.fit(x_set_train, y_set_train)\n",
      "/tmp/ipykernel_106/156337231.py:13: DataConversionWarning: A column-vector y was passed when a 1d array was expected. Please change the shape of y to (n_samples,), for example using ravel().\n",
      "  classifier.fit(x_set_train, y_set_train)\n"
     ]
    },
    {
     "name": "stdout",
     "output_type": "stream",
     "text": [
      "              precision    recall  f1-score   support\n",
      "\n",
      "           0       0.47      0.67      0.55        21\n",
      "           1       0.77      0.59      0.67        39\n",
      "\n",
      "    accuracy                           0.62        60\n",
      "   macro avg       0.62      0.63      0.61        60\n",
      "weighted avg       0.66      0.62      0.63        60\n",
      "\n",
      "              precision    recall  f1-score   support\n",
      "\n",
      "           0       0.50      0.68      0.58        22\n",
      "           1       0.77      0.61      0.68        38\n",
      "\n",
      "    accuracy                           0.63        60\n",
      "   macro avg       0.63      0.64      0.63        60\n",
      "weighted avg       0.67      0.63      0.64        60\n",
      "\n"
     ]
    },
    {
     "name": "stderr",
     "output_type": "stream",
     "text": [
      "/tmp/ipykernel_106/156337231.py:13: DataConversionWarning: A column-vector y was passed when a 1d array was expected. Please change the shape of y to (n_samples,), for example using ravel().\n",
      "  classifier.fit(x_set_train, y_set_train)\n",
      "/tmp/ipykernel_106/156337231.py:13: DataConversionWarning: A column-vector y was passed when a 1d array was expected. Please change the shape of y to (n_samples,), for example using ravel().\n",
      "  classifier.fit(x_set_train, y_set_train)\n"
     ]
    },
    {
     "name": "stdout",
     "output_type": "stream",
     "text": [
      "              precision    recall  f1-score   support\n",
      "\n",
      "           0       0.50      0.68      0.58        22\n",
      "           1       0.77      0.61      0.68        38\n",
      "\n",
      "    accuracy                           0.63        60\n",
      "   macro avg       0.63      0.64      0.63        60\n",
      "weighted avg       0.67      0.63      0.64        60\n",
      "\n",
      "              precision    recall  f1-score   support\n",
      "\n",
      "           0       0.50      0.68      0.58        22\n",
      "           1       0.77      0.61      0.68        38\n",
      "\n",
      "    accuracy                           0.63        60\n",
      "   macro avg       0.63      0.64      0.63        60\n",
      "weighted avg       0.67      0.63      0.64        60\n",
      "\n"
     ]
    },
    {
     "name": "stderr",
     "output_type": "stream",
     "text": [
      "/tmp/ipykernel_106/156337231.py:13: DataConversionWarning: A column-vector y was passed when a 1d array was expected. Please change the shape of y to (n_samples,), for example using ravel().\n",
      "  classifier.fit(x_set_train, y_set_train)\n",
      "/tmp/ipykernel_106/156337231.py:13: DataConversionWarning: A column-vector y was passed when a 1d array was expected. Please change the shape of y to (n_samples,), for example using ravel().\n",
      "  classifier.fit(x_set_train, y_set_train)\n"
     ]
    },
    {
     "name": "stdout",
     "output_type": "stream",
     "text": [
      "              precision    recall  f1-score   support\n",
      "\n",
      "           0       0.50      0.68      0.58        22\n",
      "           1       0.77      0.61      0.68        38\n",
      "\n",
      "    accuracy                           0.63        60\n",
      "   macro avg       0.63      0.64      0.63        60\n",
      "weighted avg       0.67      0.63      0.64        60\n",
      "\n",
      "              precision    recall  f1-score   support\n",
      "\n",
      "           0       0.50      0.68      0.58        22\n",
      "           1       0.77      0.61      0.68        38\n",
      "\n",
      "    accuracy                           0.63        60\n",
      "   macro avg       0.63      0.64      0.63        60\n",
      "weighted avg       0.67      0.63      0.64        60\n",
      "\n"
     ]
    },
    {
     "name": "stderr",
     "output_type": "stream",
     "text": [
      "/tmp/ipykernel_106/156337231.py:13: DataConversionWarning: A column-vector y was passed when a 1d array was expected. Please change the shape of y to (n_samples,), for example using ravel().\n",
      "  classifier.fit(x_set_train, y_set_train)\n",
      "/tmp/ipykernel_106/156337231.py:13: DataConversionWarning: A column-vector y was passed when a 1d array was expected. Please change the shape of y to (n_samples,), for example using ravel().\n",
      "  classifier.fit(x_set_train, y_set_train)\n"
     ]
    },
    {
     "name": "stdout",
     "output_type": "stream",
     "text": [
      "              precision    recall  f1-score   support\n",
      "\n",
      "           0       0.50      0.68      0.58        22\n",
      "           1       0.77      0.61      0.68        38\n",
      "\n",
      "    accuracy                           0.63        60\n",
      "   macro avg       0.63      0.64      0.63        60\n",
      "weighted avg       0.67      0.63      0.64        60\n",
      "\n",
      "              precision    recall  f1-score   support\n",
      "\n",
      "           0       0.50      0.68      0.58        22\n",
      "           1       0.77      0.61      0.68        38\n",
      "\n",
      "    accuracy                           0.63        60\n",
      "   macro avg       0.63      0.64      0.63        60\n",
      "weighted avg       0.67      0.63      0.64        60\n",
      "\n"
     ]
    },
    {
     "name": "stderr",
     "output_type": "stream",
     "text": [
      "/tmp/ipykernel_106/156337231.py:13: DataConversionWarning: A column-vector y was passed when a 1d array was expected. Please change the shape of y to (n_samples,), for example using ravel().\n",
      "  classifier.fit(x_set_train, y_set_train)\n",
      "/tmp/ipykernel_106/156337231.py:13: DataConversionWarning: A column-vector y was passed when a 1d array was expected. Please change the shape of y to (n_samples,), for example using ravel().\n",
      "  classifier.fit(x_set_train, y_set_train)\n"
     ]
    },
    {
     "name": "stdout",
     "output_type": "stream",
     "text": [
      "              precision    recall  f1-score   support\n",
      "\n",
      "           0       0.50      0.68      0.58        22\n",
      "           1       0.77      0.61      0.68        38\n",
      "\n",
      "    accuracy                           0.63        60\n",
      "   macro avg       0.63      0.64      0.63        60\n",
      "weighted avg       0.67      0.63      0.64        60\n",
      "\n",
      "              precision    recall  f1-score   support\n",
      "\n",
      "           0       0.50      0.68      0.58        22\n",
      "           1       0.77      0.61      0.68        38\n",
      "\n",
      "    accuracy                           0.63        60\n",
      "   macro avg       0.63      0.64      0.63        60\n",
      "weighted avg       0.67      0.63      0.64        60\n",
      "\n"
     ]
    },
    {
     "name": "stderr",
     "output_type": "stream",
     "text": [
      "/tmp/ipykernel_106/156337231.py:13: DataConversionWarning: A column-vector y was passed when a 1d array was expected. Please change the shape of y to (n_samples,), for example using ravel().\n",
      "  classifier.fit(x_set_train, y_set_train)\n",
      "/tmp/ipykernel_106/156337231.py:13: DataConversionWarning: A column-vector y was passed when a 1d array was expected. Please change the shape of y to (n_samples,), for example using ravel().\n",
      "  classifier.fit(x_set_train, y_set_train)\n"
     ]
    },
    {
     "name": "stdout",
     "output_type": "stream",
     "text": [
      "              precision    recall  f1-score   support\n",
      "\n",
      "           0       0.50      0.68      0.58        22\n",
      "           1       0.77      0.61      0.68        38\n",
      "\n",
      "    accuracy                           0.63        60\n",
      "   macro avg       0.63      0.64      0.63        60\n",
      "weighted avg       0.67      0.63      0.64        60\n",
      "\n",
      "              precision    recall  f1-score   support\n",
      "\n",
      "           0       0.50      0.68      0.58        22\n",
      "           1       0.77      0.61      0.68        38\n",
      "\n",
      "    accuracy                           0.63        60\n",
      "   macro avg       0.63      0.64      0.63        60\n",
      "weighted avg       0.67      0.63      0.64        60\n",
      "\n"
     ]
    },
    {
     "name": "stderr",
     "output_type": "stream",
     "text": [
      "/tmp/ipykernel_106/156337231.py:13: DataConversionWarning: A column-vector y was passed when a 1d array was expected. Please change the shape of y to (n_samples,), for example using ravel().\n",
      "  classifier.fit(x_set_train, y_set_train)\n",
      "/tmp/ipykernel_106/156337231.py:13: DataConversionWarning: A column-vector y was passed when a 1d array was expected. Please change the shape of y to (n_samples,), for example using ravel().\n",
      "  classifier.fit(x_set_train, y_set_train)\n"
     ]
    },
    {
     "name": "stdout",
     "output_type": "stream",
     "text": [
      "              precision    recall  f1-score   support\n",
      "\n",
      "           0       0.50      0.68      0.58        22\n",
      "           1       0.77      0.61      0.68        38\n",
      "\n",
      "    accuracy                           0.63        60\n",
      "   macro avg       0.63      0.64      0.63        60\n",
      "weighted avg       0.67      0.63      0.64        60\n",
      "\n",
      "              precision    recall  f1-score   support\n",
      "\n",
      "           0       0.50      0.68      0.58        22\n",
      "           1       0.77      0.61      0.68        38\n",
      "\n",
      "    accuracy                           0.63        60\n",
      "   macro avg       0.63      0.64      0.63        60\n",
      "weighted avg       0.67      0.63      0.64        60\n",
      "\n"
     ]
    },
    {
     "name": "stderr",
     "output_type": "stream",
     "text": [
      "/tmp/ipykernel_106/156337231.py:13: DataConversionWarning: A column-vector y was passed when a 1d array was expected. Please change the shape of y to (n_samples,), for example using ravel().\n",
      "  classifier.fit(x_set_train, y_set_train)\n"
     ]
    },
    {
     "name": "stdout",
     "output_type": "stream",
     "text": [
      "              precision    recall  f1-score   support\n",
      "\n",
      "           0       0.50      0.68      0.58        22\n",
      "           1       0.77      0.61      0.68        38\n",
      "\n",
      "    accuracy                           0.63        60\n",
      "   macro avg       0.63      0.64      0.63        60\n",
      "weighted avg       0.67      0.63      0.64        60\n",
      "\n"
     ]
    }
   ],
   "source": [
    "rf_depths = []\n",
    "macro_F1_score = []\n",
    "for depth in range(1, 30):\n",
    "    rf_depths.append(depth)\n",
    "    rfClassifier = RandomForestClassifier(criterion='gini', max_depth=depth,random_state=0)\n",
    "    macro_F1_score.append(predict(rfClassifier, x_set2_train,  y_set2_train, x_set2_test, y_set2_test))"
   ]
  },
  {
   "cell_type": "code",
   "execution_count": 14,
   "id": "55b56d4a",
   "metadata": {
    "scrolled": false
   },
   "outputs": [
    {
     "data": {
      "image/png": "[encoded data removed]",
      "text/plain": [
       "<Figure size 432x288 with 1 Axes>"
      ]
     },
     "metadata": {
      "needs_background": "light"
     },
     "output_type": "display_data"
    }
   ],
   "source": [
    "    plt.plot(rf_depths,macro_F1_score, label='macro_F1_score')\n",
    "    plt.title('Macro F1-score vs max depth for random forest')\n",
    "    plt.xlabel('max depth of trees')\n",
    "    plt.ylabel('Macro F1-score')\n",
    "    plt.legend()\n",
    "    plt.show()"
   ]
  },
  {
   "cell_type": "code",
   "execution_count": 15,
   "id": "1c9ea54c",
   "metadata": {
    "scrolled": true
   },
   "outputs": [
    {
     "name": "stderr",
     "output_type": "stream",
     "text": [
      "/tmp/ipykernel_106/156337231.py:13: DataConversionWarning: A column-vector y was passed when a 1d array was expected. Please change the shape of y to (n_samples,), for example using ravel().\n",
      "  classifier.fit(x_set_train, y_set_train)\n",
      "/tmp/ipykernel_106/156337231.py:13: DataConversionWarning: A column-vector y was passed when a 1d array was expected. Please change the shape of y to (n_samples,), for example using ravel().\n",
      "  classifier.fit(x_set_train, y_set_train)\n"
     ]
    },
    {
     "name": "stdout",
     "output_type": "stream",
     "text": [
      "              precision    recall  f1-score   support\n",
      "\n",
      "           0       0.50      0.68      0.58        22\n",
      "           1       0.77      0.61      0.68        38\n",
      "\n",
      "    accuracy                           0.63        60\n",
      "   macro avg       0.63      0.64      0.63        60\n",
      "weighted avg       0.67      0.63      0.64        60\n",
      "\n",
      "              precision    recall  f1-score   support\n",
      "\n",
      "           0       0.43      0.68      0.53        19\n",
      "           1       0.80      0.59      0.68        41\n",
      "\n",
      "    accuracy                           0.62        60\n",
      "   macro avg       0.62      0.63      0.60        60\n",
      "weighted avg       0.68      0.62      0.63        60\n",
      "\n",
      "              precision    recall  f1-score   support\n",
      "\n",
      "           0       0.43      0.68      0.53        19\n",
      "           1       0.80      0.59      0.68        41\n",
      "\n",
      "    accuracy                           0.62        60\n",
      "   macro avg       0.62      0.63      0.60        60\n",
      "weighted avg       0.68      0.62      0.63        60\n",
      "\n"
     ]
    },
    {
     "name": "stderr",
     "output_type": "stream",
     "text": [
      "/tmp/ipykernel_106/156337231.py:13: DataConversionWarning: A column-vector y was passed when a 1d array was expected. Please change the shape of y to (n_samples,), for example using ravel().\n",
      "  classifier.fit(x_set_train, y_set_train)\n"
     ]
    }
   ],
   "source": [
    "criterions = ['gini', 'entropy', 'log_loss']\n",
    "macro_F1_score = []\n",
    "for criterion in criterions:\n",
    "    rfClassifier = RandomForestClassifier(criterion=criterion, max_depth=20,random_state=0)\n",
    "    macro_F1_score.append(predict(rfClassifier, x_set2_train,  y_set2_train, x_set2_test, y_set2_test))"
   ]
  },
  {
   "cell_type": "code",
   "execution_count": 16,
   "id": "164403be",
   "metadata": {
    "scrolled": true
   },
   "outputs": [
    {
     "name": "stderr",
     "output_type": "stream",
     "text": [
      "/tmp/ipykernel_106/864556814.py:6: DataConversionWarning: A column-vector y was passed when a 1d array was expected. Please change the shape of y to (n_samples,), for example using ravel().\n",
      "  classifier.fit(test_x_set2_train, y_set2)\n"
     ]
    }
   ],
   "source": [
    "test_x_set2 = pd.concat([set2, set_test[600:]])\n",
    "new_x_set2 = preprocess(test_x_set2)\n",
    "test_x_set2_train = new_x_set2[:200]\n",
    "test_x_set2_test = new_x_set2[200:]\n",
    "classifier = RandomForestClassifier(criterion='gini', max_depth=10)\n",
    "classifier.fit(test_x_set2_train, y_set2)\n",
    "y_pred2 = classifier.predict(test_x_set2_test)"
   ]
  },
  {
   "cell_type": "code",
   "execution_count": 17,
   "id": "538710d3",
   "metadata": {
    "scrolled": false
   },
   "outputs": [
    {
     "data": {
      "text/plain": [
       "array([0, 0, 1, 0, 0, 1, 0, 1, 0, 1, 0, 1, 1, 0, 0, 1, 1, 1, 1, 1, 1, 1,\n",
       "       1, 1, 0, 1, 0, 1, 1, 0, 0, 0, 0, 1, 1, 1, 0, 1, 0, 0, 0, 1, 1, 1,\n",
       "       1, 1, 0, 1, 0, 0, 0, 0, 1, 0, 0, 1, 0, 0, 1, 0, 0, 1, 1, 1, 0, 0,\n",
       "       0, 1, 0, 1, 0, 0, 1, 1, 1, 0, 0, 0, 1, 1, 1, 0, 0, 0, 1, 0, 0, 1,\n",
       "       0, 1, 1, 1, 0, 1, 0, 1, 1, 1, 1, 1, 1, 1, 1, 0, 0, 0, 1, 0, 1, 0,\n",
       "       0, 1, 1, 1, 0, 1, 0, 1, 1, 1, 1, 0, 1, 1, 0, 0, 0, 0, 1, 1, 0, 1,\n",
       "       0, 1, 0, 0, 1, 1, 0, 1, 1, 1, 1, 0, 0, 0, 0, 1, 0, 1, 1, 0, 0, 0,\n",
       "       0, 0, 1, 1, 1, 0, 1, 0, 0, 1, 1, 0, 1, 0, 0, 0, 1, 1, 1, 1, 0, 1,\n",
       "       0, 1, 1, 1, 1, 1, 1, 1, 1, 1, 1, 0, 0, 1, 1, 0, 1, 0, 0, 1, 0, 1,\n",
       "       1, 0, 1, 0, 1, 1, 0, 0, 1, 0, 1, 1, 1, 0, 1, 0, 0, 1, 0, 1, 1, 1,\n",
       "       1, 0, 1, 1, 0, 1, 1, 1, 0, 0, 1, 1, 1, 1, 1, 0, 1, 1, 0, 1, 1, 1,\n",
       "       0, 1, 0, 0, 0, 0, 1, 1, 1, 1, 1, 1, 1, 1, 0, 1, 1, 0, 0, 1, 1, 1,\n",
       "       1, 0, 1, 1, 0, 0, 1, 1, 1, 0, 0, 0, 0, 0, 0, 1, 1, 0, 1, 0, 1, 1,\n",
       "       0, 1, 1, 1, 0, 0, 1, 0, 1, 1, 1, 0, 0, 1, 0, 0, 0, 1, 0, 1, 1, 0,\n",
       "       0, 0, 1, 1, 1, 0, 1, 1, 1, 1, 0, 0, 0, 0, 1, 1, 1, 1, 1, 1, 1, 1,\n",
       "       1, 1, 0, 1, 0, 1, 0, 1, 0, 1, 1, 1, 0, 0, 0, 1, 0, 0, 0, 1, 1, 1,\n",
       "       1, 0, 1, 1, 1, 1, 1, 0, 1, 1, 1, 0, 1, 1, 1, 0, 0, 1, 1, 0, 0, 1,\n",
       "       0, 0, 1, 0, 0, 0, 0, 1, 1, 1, 0, 1, 0, 0, 1, 0, 0, 1, 1, 0, 0, 0,\n",
       "       1, 0, 0, 1])"
      ]
     },
     "execution_count": 17,
     "metadata": {},
     "output_type": "execute_result"
    }
   ],
   "source": [
    "y_pred2"
   ]
  },
  {
   "cell_type": "code",
   "execution_count": 18,
   "id": "7aa8baf1",
   "metadata": {
    "scrolled": true
   },
   "outputs": [
    {
     "data": {
      "text/plain": [
       "175"
      ]
     },
     "execution_count": 18,
     "metadata": {},
     "output_type": "execute_result"
    }
   ],
   "source": [
    "count = 0\n",
    "for i in y_pred2:\n",
    "    if i == 0:\n",
    "        count+=1\n",
    "count"
   ]
  },
  {
   "cell_type": "code",
   "execution_count": 19,
   "id": "f9bb74ed",
   "metadata": {},
   "outputs": [],
   "source": [
    "df = pd.DataFrame(y_pred2, columns = ['Predicted'])"
   ]
  },
  {
   "cell_type": "code",
   "execution_count": 21,
   "id": "487ae8cc",
   "metadata": {
    "scrolled": true
   },
   "outputs": [],
   "source": [
    "df.to_csv('last 400 out.csv')"
   ]
  }
 ],
 "metadata": {
  "kernelspec": {
   "display_name": "Python 3 (ipykernel)",
   "language": "python",
   "name": "python3"
  },
  "language_info": {
   "codemirror_mode": {
    "name": "ipython",
    "version": 3
   },
   "file_extension": ".py",
   "mimetype": "text/x-python",
   "name": "python",
   "nbconvert_exporter": "python",
   "pygments_lexer": "ipython3",
   "version": "3.8.10"
  }
 },
 "nbformat": 4,
 "nbformat_minor": 5
}
