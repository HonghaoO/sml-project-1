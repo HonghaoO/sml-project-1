{
 "cells": [
  {
   "cell_type": "code",
   "execution_count": 1,
   "id": "8ad64274",
   "metadata": {},
   "outputs": [],
   "source": [
    "import json\n",
    "import numpy as np\n",
    "import pandas as pd\n",
    "import torch\n",
    "import gensim\n",
    "from sklearn.feature_extraction.text import CountVectorizer\n",
    "from sklearn.feature_extraction import DictVectorizer\n",
    "from sklearn.linear_model import LogisticRegression\n",
    "from sklearn import metrics\n",
    "from sklearn.metrics import accuracy_score, f1_score, classification_report, confusion_matrix\n",
    "from sklearn.model_selection import train_test_split, StratifiedShuffleSplit\n",
    "from sklearn.metrics import classification_report"
   ]
  },
  {
   "cell_type": "code",
   "execution_count": 2,
   "id": "703e59c4",
   "metadata": {},
   "outputs": [],
   "source": [
    "# Read all the data sets\n",
    "\n",
    "set1_human = pd.read_json('dataset/set1_human.json')\n",
    "set1_machine = pd.read_json('dataset/set1_machine.json')\n",
    "set2_human = pd.read_json('dataset/set2_human.json')\n",
    "set2_machine = pd.read_json('dataset/set2_machine.json')\n",
    "set_test = pd.read_json('dataset/test.json')\n",
    "\n",
    "# Add in label for all data sets\n",
    "set1_human = set1_human.assign(label=1)\n",
    "set2_human = set2_human.assign(label=1)\n",
    "set1_machine = set1_machine.assign(label=0)\n",
    "set2_machine = set2_machine.assign(label=0)"
   ]
  },
  {
   "cell_type": "code",
   "execution_count": 3,
   "id": "2169a344",
   "metadata": {},
   "outputs": [],
   "source": [
    "# Separate and concatenate into 2 sets, set 1 and set 2\n",
    "set1 = pd.concat([set1_human, set1_machine])\n",
    "set2 = pd.concat([set2_human, set2_machine])\n",
    "\n",
    "# Split the labels and the data for training\n",
    "x_set1 = pd.DataFrame(set1[['txt', 'prompt']])\n",
    "y_set1 = pd.DataFrame(set1[['label']])\n",
    "x_set2 = pd.DataFrame(set2[['txt', 'prompt']])\n",
    "y_set2 = pd.DataFrame(set2[['label']])"
   ]
  },
  {
   "cell_type": "code",
   "execution_count": 4,
   "id": "d55e486b",
   "metadata": {},
   "outputs": [],
   "source": [
    "x_set1['prompt_len'] = x_set1['prompt'].apply(lambda x: len(x))\n",
    "x_set1['txt_len'] = x_set1['txt'].apply(lambda x: len(x))\n",
    "\n",
    "x_set2['prompt_len'] = x_set2['prompt'].apply(lambda x: len(x))\n",
    "x_set2['txt_len'] = x_set2['txt'].apply(lambda x: len(x))\n",
    "\n",
    "set_test['prompt_len'] = set_test['prompt'].apply(lambda x: len(x))\n",
    "set_test['txt_len'] = set_test['txt'].apply(lambda x: len(x))"
   ]
  },
  {
   "cell_type": "code",
   "execution_count": 5,
   "id": "62b9715d",
   "metadata": {},
   "outputs": [],
   "source": [
    "#y_combined_set = pd.concat([y_set1, y_set2])"
   ]
  },
  {
   "cell_type": "code",
   "execution_count": 6,
   "id": "72c97caa",
   "metadata": {},
   "outputs": [],
   "source": [
    "x_combined_set = x_set1"
   ]
  },
  {
   "cell_type": "code",
   "execution_count": 7,
   "id": "123e6dfb",
   "metadata": {},
   "outputs": [],
   "source": [
    "y_combined_set = y_set1"
   ]
  },
  {
   "cell_type": "code",
   "execution_count": 8,
   "id": "0ee04286",
   "metadata": {},
   "outputs": [],
   "source": [
    "first_test = set_test[:600]"
   ]
  },
  {
   "cell_type": "code",
   "execution_count": 9,
   "id": "9e5df01a",
   "metadata": {},
   "outputs": [],
   "source": [
    "from gensim.models import Word2Vec\n",
    "\n",
    "vocab = x_combined_set['txt'].tolist() + first_test['txt'].tolist()\n",
    "\n",
    "model = Word2Vec(sentences=vocab, vector_size=100, window=5, min_count=1, workers=4)\n",
    "model.save(\"word2vec.model\")"
   ]
  },
  {
   "cell_type": "code",
   "execution_count": 10,
   "id": "3fca4b0a",
   "metadata": {},
   "outputs": [],
   "source": [
    "w2v_model =  gensim.models.Word2Vec.load(\"word2vec.model\").wv\n",
    "\n",
    "'''x_prompt = x_combined_set['prompt']\n",
    "\n",
    "x_prompt_vec = []\n",
    "for sentence in x_prompt:\n",
    "    sentence_vec = []\n",
    "    \n",
    "    for word in sentence:\n",
    "        sentence_vec.append(w2v_model[word])\n",
    "    x_prompt_vec.append(np.mean(sentence_vec, axis=0))\n",
    "x_prompt_vec = np.array(x_prompt_vec)'''\n",
    "\n",
    "x_text = x_combined_set['txt']\n",
    "\n",
    "x_text_vec = []\n",
    "for sentence in x_text:\n",
    "    sentence_vec = []\n",
    "    \n",
    "    for word in sentence[:300]:\n",
    "        sentence_vec.append(w2v_model[word])\n",
    "    x_text_vec.append(np.mean(sentence_vec, axis=0))\n",
    "x_text_vec = np.array(x_text_vec)\n",
    "\n",
    "'''prompt_len = np.expand_dims(x_combined_set['prompt_len'].values , axis=1)'''\n",
    "txt_len = np.expand_dims(x_combined_set['txt_len'].values , axis=1)\n",
    "\n"
   ]
  },
  {
   "cell_type": "code",
   "execution_count": 11,
   "id": "8fff609c",
   "metadata": {},
   "outputs": [],
   "source": [
    "x_set = np.concatenate((x_text_vec, txt_len), axis=1)"
   ]
  },
  {
   "cell_type": "code",
   "execution_count": 12,
   "id": "078dea6d",
   "metadata": {},
   "outputs": [],
   "source": [
    "x_train, x_test, y_train, y_test= train_test_split(x_set, y_combined_set, test_size=0.1, stratify=y_combined_set)"
   ]
  },
  {
   "cell_type": "code",
   "execution_count": 13,
   "id": "5871c860",
   "metadata": {},
   "outputs": [],
   "source": [
    "from imblearn.over_sampling import RandomOverSampler\n",
    "\n",
    "# define the oversampling strategy\n",
    "oversample = RandomOverSampler(sampling_strategy='minority')\n",
    "\n",
    "# fit and apply the transform\n",
    "x_train_over, y_train_over = oversample.fit_resample(x_train, y_train)\n"
   ]
  },
  {
   "cell_type": "code",
   "execution_count": 14,
   "id": "601dbe72",
   "metadata": {},
   "outputs": [],
   "source": [
    "x_train_set_1 = x_train\n",
    "y_train_set_1 = y_train"
   ]
  },
  {
   "cell_type": "code",
   "execution_count": 15,
   "id": "61035e91",
   "metadata": {},
   "outputs": [
    {
     "name": "stderr",
     "output_type": "stream",
     "text": [
      "C:\\Users\\User\\anaconda3\\lib\\site-packages\\sklearn\\utils\\validation.py:63: DataConversionWarning: A column-vector y was passed when a 1d array was expected. Please change the shape of y to (n_samples, ), for example using ravel().\n",
      "  return f(*args, **kwargs)\n"
     ]
    },
    {
     "name": "stdout",
     "output_type": "stream",
     "text": [
      "              precision    recall  f1-score   support\n",
      "\n",
      "           0       0.39      0.87      0.53       156\n",
      "           1       1.00      0.98      0.99     12453\n",
      "\n",
      "    accuracy                           0.98     12609\n",
      "   macro avg       0.69      0.92      0.76     12609\n",
      "weighted avg       0.99      0.98      0.98     12609\n",
      "\n"
     ]
    }
   ],
   "source": [
    "lg_clf_1 = LogisticRegression(max_iter=1000)\n",
    "lg_clf_1.fit(x_train, y_train)\n",
    "\n",
    "y_pred = lg_clf_1.predict(x_test)\n",
    "accuracy = accuracy_score(y_test, y_pred)\n",
    "print(classification_report(y_pred, y_test))"
   ]
  },
  {
   "cell_type": "code",
   "execution_count": 16,
   "id": "9bdee65c",
   "metadata": {},
   "outputs": [
    {
     "name": "stderr",
     "output_type": "stream",
     "text": [
      "C:\\Users\\User\\anaconda3\\lib\\site-packages\\sklearn\\utils\\validation.py:63: DataConversionWarning: A column-vector y was passed when a 1d array was expected. Please change the shape of y to (n_samples, ), for example using ravel().\n",
      "  return f(*args, **kwargs)\n"
     ]
    },
    {
     "name": "stdout",
     "output_type": "stream",
     "text": [
      "              precision    recall  f1-score   support\n",
      "\n",
      "           0       0.92      0.17      0.29      1899\n",
      "           1       0.87      1.00      0.93     10710\n",
      "\n",
      "    accuracy                           0.87     12609\n",
      "   macro avg       0.90      0.58      0.61     12609\n",
      "weighted avg       0.88      0.87      0.83     12609\n",
      "\n"
     ]
    }
   ],
   "source": [
    "lg_clf_1 = LogisticRegression(max_iter=1000)\n",
    "lg_clf_1.fit(x_train_over, y_train_over)\n",
    "\n",
    "y_pred = lg_clf_1.predict(x_test)\n",
    "accuracy = accuracy_score(y_test, y_pred)\n",
    "print(classification_report(y_pred, y_test))"
   ]
  },
  {
   "cell_type": "code",
   "execution_count": 17,
   "id": "32ff1081",
   "metadata": {},
   "outputs": [
    {
     "name": "stderr",
     "output_type": "stream",
     "text": [
      "C:\\Users\\User\\anaconda3\\lib\\site-packages\\sklearn\\utils\\validation.py:63: DataConversionWarning: A column-vector y was passed when a 1d array was expected. Please change the shape of y to (n_samples, ), for example using ravel().\n",
      "  return f(*args, **kwargs)\n"
     ]
    },
    {
     "name": "stdout",
     "output_type": "stream",
     "text": [
      "[LightGBM] [Warning] feature_fraction is set=0.9, colsample_bytree=1.0 will be ignored. Current value: feature_fraction=0.9\n",
      "[LightGBM] [Warning] bagging_fraction is set=0.8, subsample=1.0 will be ignored. Current value: bagging_fraction=0.8\n",
      "[LightGBM] [Warning] bagging_freq is set=5, subsample_freq=0 will be ignored. Current value: bagging_freq=5\n",
      "[LightGBM] [Warning] feature_fraction is set=0.9, colsample_bytree=1.0 will be ignored. Current value: feature_fraction=0.9\n",
      "[LightGBM] [Warning] bagging_fraction is set=0.8, subsample=1.0 will be ignored. Current value: bagging_fraction=0.8\n",
      "[LightGBM] [Warning] bagging_freq is set=5, subsample_freq=0 will be ignored. Current value: bagging_freq=5\n",
      "[LightGBM] [Warning] Auto-choosing col-wise multi-threading, the overhead of testing was 0.046722 seconds.\n",
      "You can set `force_col_wise=true` to remove the overhead.\n",
      "              precision    recall  f1-score   support\n",
      "\n",
      "           0       0.94      0.15      0.27      2125\n",
      "           1       0.85      1.00      0.92     10484\n",
      "\n",
      "    accuracy                           0.86     12609\n",
      "   macro avg       0.90      0.58      0.59     12609\n",
      "weighted avg       0.87      0.86      0.81     12609\n",
      "\n"
     ]
    }
   ],
   "source": [
    "import lightgbm as lgb\n",
    "\n",
    "params = {\n",
    "    'boosting_type': 'gbdt',\n",
    "    'objective': 'binary',\n",
    "    'metric': 'auc',\n",
    "    'num_leaves': 10,\n",
    "    'learning_rate': 0.001,\n",
    "    'feature_fraction': 0.9,\n",
    "    'bagging_fraction': 0.8,\n",
    "    'bagging_freq': 5,\n",
    "    'verbose': 0,\n",
    "    'random_state': 42\n",
    "}\n",
    "\n",
    "lgb_clf_1 = lgb.LGBMClassifier(**params)\n",
    "lgb_clf_1.fit(x_train_over, y_train_over)\n",
    "\n",
    "y_pred = lgb_clf_1.predict(x_test)\n",
    "\n",
    "print(classification_report(y_pred, y_test))"
   ]
  },
  {
   "cell_type": "code",
   "execution_count": 18,
   "id": "af6014a5",
   "metadata": {},
   "outputs": [],
   "source": [
    "'''test_prompt = first_test['prompt']\n",
    "test_prompt_vec = []\n",
    "for sentence in test_prompt:\n",
    "    sentence_vec = []\n",
    "    for word in sentence:\n",
    "        if word in w2v_model:\n",
    "            sentence_vec.append(w2v_model[word])\n",
    "    if sentence_vec:\n",
    "        test_prompt_vec.append(np.mean(sentence_vec, axis=0))\n",
    "    else:\n",
    "        test_prompt_vec.append(np.zeros_like(w2v_model[1479]))\n",
    "test_prompt_vec = np.array(test_prompt_vec)\n",
    "'''\n",
    "test_text = first_test['txt']\n",
    "\n",
    "test_text_vec = []\n",
    "for sentence in test_text:\n",
    "    sentence_vec = []\n",
    "    \n",
    "    for word in sentence[:200]:\n",
    "        sentence_vec.append(w2v_model[word])\n",
    "    test_text_vec.append(np.mean(sentence_vec, axis=0))\n",
    "test_text_vec = np.array(test_text_vec)\n",
    "\n",
    "\n",
    "'''test_prompt_len = np.expand_dims(first_test['prompt_len'].values , axis=1)'''\n",
    "test_txt_len = np.expand_dims(first_test['txt_len'].values , axis=1)\n",
    "\n",
    "test_vec = np.concatenate((test_text_vec, test_txt_len), axis=1)"
   ]
  },
  {
   "cell_type": "code",
   "execution_count": 19,
   "id": "1befd313",
   "metadata": {},
   "outputs": [],
   "source": [
    "first_pred = lg_clf_1.predict(test_vec)"
   ]
  },
  {
   "cell_type": "code",
   "execution_count": 20,
   "id": "78ee4056",
   "metadata": {},
   "outputs": [
    {
     "data": {
      "text/plain": [
       "array([0, 0, 0, 0, 0, 0, 0, 0, 0, 0, 0, 0, 0, 0, 0, 0, 1, 0, 1, 0, 0, 0,\n",
       "       0, 0, 0, 0, 0, 1, 0, 1, 1, 0, 0, 0, 1, 1, 0, 0, 1, 0, 1, 0, 1, 0,\n",
       "       1, 1, 0, 1, 0, 0, 0, 1, 0, 1, 1, 1, 1, 0, 1, 0, 0, 1, 0, 0, 0, 1,\n",
       "       1, 0, 0, 0, 0, 0, 0, 0, 0, 0, 0, 0, 0, 0, 1, 0, 1, 0, 0, 1, 0, 0,\n",
       "       0, 1, 0, 1, 0, 0, 0, 1, 0, 0, 0, 0, 0, 1, 0, 0, 0, 0, 0, 1, 1, 1,\n",
       "       0, 0, 0, 0, 0, 0, 0, 0, 0, 0, 1, 0, 0, 1, 0, 0, 0, 1, 0, 1, 0, 0,\n",
       "       0, 0, 0, 0, 0, 1, 0, 1, 0, 0, 0, 1, 0, 1, 0, 0, 0, 0, 0, 0, 0, 0,\n",
       "       0, 0, 0, 1, 1, 0, 0, 0, 1, 0, 0, 0, 0, 0, 0, 1, 1, 1, 0, 0, 0, 0,\n",
       "       0, 1, 0, 0, 0, 0, 0, 1, 1, 0, 0, 0, 0, 1, 0, 1, 0, 1, 0, 1, 1, 0,\n",
       "       0, 0, 0, 0, 0, 0, 1, 0, 1, 0, 0, 0, 0, 0, 1, 0, 0, 1, 1, 0, 0, 0,\n",
       "       0, 0, 0, 0, 0, 0, 0, 1, 1, 1, 0, 0, 0, 1, 1, 0, 0, 0, 0, 0, 0, 0,\n",
       "       0, 0, 0, 0, 0, 0, 1, 0, 1, 1, 0, 1, 1, 1, 0, 0, 0, 0, 1, 0, 0, 1,\n",
       "       0, 0, 0, 1, 1, 0, 1, 1, 1, 0, 0, 0, 0, 0, 1, 0, 0, 0, 1, 1, 0, 0,\n",
       "       0, 1, 1, 1, 1, 0, 0, 1, 1, 1, 0, 1, 0, 0, 0, 0, 1, 0, 0, 0, 0, 0,\n",
       "       1, 1, 1, 0, 0, 0, 1, 1, 0, 0, 1, 0, 0, 0, 0, 0, 1, 0, 1, 0, 0, 0,\n",
       "       1, 1, 0, 0, 1, 0, 1, 0, 1, 1, 0, 0, 0, 0, 0, 0, 1, 1, 1, 0, 0, 0,\n",
       "       0, 0, 0, 0, 0, 0, 1, 0, 0, 0, 0, 1, 0, 1, 0, 0, 0, 0, 0, 1, 0, 0,\n",
       "       1, 1, 0, 0, 0, 0, 0, 1, 1, 0, 0, 0, 0, 0, 1, 0, 1, 0, 0, 0, 0, 1,\n",
       "       0, 0, 1, 0, 1, 0, 0, 0, 1, 1, 1, 0, 0, 0, 1, 0, 0, 0, 1, 0, 0, 1,\n",
       "       0, 1, 0, 0, 0, 0, 0, 1, 0, 1, 0, 0, 0, 1, 0, 0, 0, 0, 0, 0, 0, 0,\n",
       "       1, 0, 0, 0, 1, 0, 0, 0, 0, 0, 0, 0, 0, 0, 1, 0, 0, 0, 0, 1, 1, 0,\n",
       "       0, 1, 0, 0, 1, 1, 0, 0, 0, 1, 1, 0, 0, 1, 0, 0, 0, 0, 0, 0, 1, 0,\n",
       "       0, 0, 1, 0, 1, 0, 0, 0, 0, 1, 0, 0, 1, 0, 1, 1, 0, 0, 0, 0, 0, 0,\n",
       "       0, 1, 0, 0, 0, 1, 0, 1, 0, 0, 0, 0, 1, 0, 0, 0, 0, 0, 0, 0, 0, 0,\n",
       "       1, 1, 0, 0, 0, 1, 0, 0, 0, 1, 0, 0, 0, 0, 0, 1, 0, 0, 0, 0, 1, 1,\n",
       "       0, 1, 0, 0, 1, 0, 0, 0, 0, 0, 0, 0, 1, 0, 0, 0, 0, 0, 0, 1, 0, 0,\n",
       "       0, 1, 0, 0, 0, 1, 0, 1, 0, 0, 0, 0, 0, 0, 1, 1, 0, 0, 0, 0, 0, 1,\n",
       "       0, 1, 0, 0, 0, 0], dtype=int64)"
      ]
     },
     "execution_count": 20,
     "metadata": {},
     "output_type": "execute_result"
    }
   ],
   "source": [
    "first_pred"
   ]
  },
  {
   "cell_type": "markdown",
   "id": "766d8713",
   "metadata": {},
   "source": [
    "# Create model for set 2"
   ]
  },
  {
   "cell_type": "code",
   "execution_count": 21,
   "id": "8223ea7d",
   "metadata": {
    "scrolled": false
   },
   "outputs": [
    {
     "data": {
      "text/html": [
       "<div>\n",
       "<style scoped>\n",
       "    .dataframe tbody tr th:only-of-type {\n",
       "        vertical-align: middle;\n",
       "    }\n",
       "\n",
       "    .dataframe tbody tr th {\n",
       "        vertical-align: top;\n",
       "    }\n",
       "\n",
       "    .dataframe thead th {\n",
       "        text-align: right;\n",
       "    }\n",
       "</style>\n",
       "<table border=\"1\" class=\"dataframe\">\n",
       "  <thead>\n",
       "    <tr style=\"text-align: right;\">\n",
       "      <th></th>\n",
       "      <th>txt</th>\n",
       "      <th>prompt</th>\n",
       "      <th>prompt_len</th>\n",
       "      <th>txt_len</th>\n",
       "    </tr>\n",
       "  </thead>\n",
       "  <tbody>\n",
       "    <tr>\n",
       "      <th>0</th>\n",
       "      <td>[55, 1497, 3396, 3860, 85, 1624, 1486, 1525, 5...</td>\n",
       "      <td>[47, 2328, 1484, 1737, 36, 37, 4609, 1772, 157...</td>\n",
       "      <td>64</td>\n",
       "      <td>565</td>\n",
       "    </tr>\n",
       "    <tr>\n",
       "      <th>1</th>\n",
       "      <td>[36, 2318, 42, 50, 51, 3717, 2493, 42, 72, 409...</td>\n",
       "      <td>[58, 36, 54, 43, 44, 49, 42, 55, 50, 49, 1737,...</td>\n",
       "      <td>78</td>\n",
       "      <td>1218</td>\n",
       "    </tr>\n",
       "    <tr>\n",
       "      <th>2</th>\n",
       "      <td>[54, 1540, 1589, 1500, 44, 3882, 1705, 1478, 1...</td>\n",
       "      <td>[39, 82, 93, 1943, 1500, 1481, 2140, 2389, 147...</td>\n",
       "      <td>52</td>\n",
       "      <td>628</td>\n",
       "    </tr>\n",
       "    <tr>\n",
       "      <th>3</th>\n",
       "      <td>[36, 86, 68, 3273, 1936, 15, 1479, 56, 17, 54,...</td>\n",
       "      <td>[1737, 51, 1489, 81, 54, 87, 1643, 56, 2462, 2...</td>\n",
       "      <td>59</td>\n",
       "      <td>1088</td>\n",
       "    </tr>\n",
       "    <tr>\n",
       "      <th>4</th>\n",
       "      <td>[44, 87, 1515, 1479, 1510, 1564, 1480, 51, 148...</td>\n",
       "      <td>[1737, 51, 1647, 1705, 1480, 3486, 2318, 1500,...</td>\n",
       "      <td>72</td>\n",
       "      <td>732</td>\n",
       "    </tr>\n",
       "    <tr>\n",
       "      <th>...</th>\n",
       "      <td>...</td>\n",
       "      <td>...</td>\n",
       "      <td>...</td>\n",
       "      <td>...</td>\n",
       "    </tr>\n",
       "    <tr>\n",
       "      <th>395</th>\n",
       "      <td>[55, 1497, 70, 1693, 2159, 1500, 51, 1481, 214...</td>\n",
       "      <td>[52, 88, 76, 1485, 15, 40, 2349, 1508, 1494, 1...</td>\n",
       "      <td>40</td>\n",
       "      <td>1168</td>\n",
       "    </tr>\n",
       "    <tr>\n",
       "      <th>396</th>\n",
       "      <td>[55, 1497, 2949, 2660, 4578, 1589, 4644, 1568,...</td>\n",
       "      <td>[1737, 54, 76, 91, 38, 75, 1714, 1504, 38, 171...</td>\n",
       "      <td>70</td>\n",
       "      <td>713</td>\n",
       "    </tr>\n",
       "    <tr>\n",
       "      <th>397</th>\n",
       "      <td>[44, 87, 10, 86, 1536, 4361, 2960, 2166, 3237,...</td>\n",
       "      <td>[58, 1984, 1488, 2298, 1737, 58, 3365, 1479, 2...</td>\n",
       "      <td>57</td>\n",
       "      <td>916</td>\n",
       "    </tr>\n",
       "    <tr>\n",
       "      <th>398</th>\n",
       "      <td>[55, 75, 1480, 1977, 1533, 2351, 2929, 1495, 1...</td>\n",
       "      <td>[11, 48, 1490, 1539, 1747, 12, 1737, 39, 1514,...</td>\n",
       "      <td>44</td>\n",
       "      <td>705</td>\n",
       "    </tr>\n",
       "    <tr>\n",
       "      <th>399</th>\n",
       "      <td>[56, 81, 1570, 1542, 1947, 83, 1530, 1962, 156...</td>\n",
       "      <td>[1737, 41, 1494, 1538, 2607, 1628, 1478, 54, 1...</td>\n",
       "      <td>42</td>\n",
       "      <td>323</td>\n",
       "    </tr>\n",
       "  </tbody>\n",
       "</table>\n",
       "<p>500 rows × 4 columns</p>\n",
       "</div>"
      ],
      "text/plain": [
       "                                                   txt  \\\n",
       "0    [55, 1497, 3396, 3860, 85, 1624, 1486, 1525, 5...   \n",
       "1    [36, 2318, 42, 50, 51, 3717, 2493, 42, 72, 409...   \n",
       "2    [54, 1540, 1589, 1500, 44, 3882, 1705, 1478, 1...   \n",
       "3    [36, 86, 68, 3273, 1936, 15, 1479, 56, 17, 54,...   \n",
       "4    [44, 87, 1515, 1479, 1510, 1564, 1480, 51, 148...   \n",
       "..                                                 ...   \n",
       "395  [55, 1497, 70, 1693, 2159, 1500, 51, 1481, 214...   \n",
       "396  [55, 1497, 2949, 2660, 4578, 1589, 4644, 1568,...   \n",
       "397  [44, 87, 10, 86, 1536, 4361, 2960, 2166, 3237,...   \n",
       "398  [55, 75, 1480, 1977, 1533, 2351, 2929, 1495, 1...   \n",
       "399  [56, 81, 1570, 1542, 1947, 83, 1530, 1962, 156...   \n",
       "\n",
       "                                                prompt  prompt_len  txt_len  \n",
       "0    [47, 2328, 1484, 1737, 36, 37, 4609, 1772, 157...          64      565  \n",
       "1    [58, 36, 54, 43, 44, 49, 42, 55, 50, 49, 1737,...          78     1218  \n",
       "2    [39, 82, 93, 1943, 1500, 1481, 2140, 2389, 147...          52      628  \n",
       "3    [1737, 51, 1489, 81, 54, 87, 1643, 56, 2462, 2...          59     1088  \n",
       "4    [1737, 51, 1647, 1705, 1480, 3486, 2318, 1500,...          72      732  \n",
       "..                                                 ...         ...      ...  \n",
       "395  [52, 88, 76, 1485, 15, 40, 2349, 1508, 1494, 1...          40     1168  \n",
       "396  [1737, 54, 76, 91, 38, 75, 1714, 1504, 38, 171...          70      713  \n",
       "397  [58, 1984, 1488, 2298, 1737, 58, 3365, 1479, 2...          57      916  \n",
       "398  [11, 48, 1490, 1539, 1747, 12, 1737, 39, 1514,...          44      705  \n",
       "399  [1737, 41, 1494, 1538, 2607, 1628, 1478, 54, 1...          42      323  \n",
       "\n",
       "[500 rows x 4 columns]"
      ]
     },
     "execution_count": 21,
     "metadata": {},
     "output_type": "execute_result"
    }
   ],
   "source": [
    "x_set2# = pd.concat([x_set1[:400], x_set2])"
   ]
  },
  {
   "cell_type": "code",
   "execution_count": 22,
   "id": "799c5fb8",
   "metadata": {},
   "outputs": [
    {
     "data": {
      "text/html": [
       "<div>\n",
       "<style scoped>\n",
       "    .dataframe tbody tr th:only-of-type {\n",
       "        vertical-align: middle;\n",
       "    }\n",
       "\n",
       "    .dataframe tbody tr th {\n",
       "        vertical-align: top;\n",
       "    }\n",
       "\n",
       "    .dataframe thead th {\n",
       "        text-align: right;\n",
       "    }\n",
       "</style>\n",
       "<table border=\"1\" class=\"dataframe\">\n",
       "  <thead>\n",
       "    <tr style=\"text-align: right;\">\n",
       "      <th></th>\n",
       "      <th>label</th>\n",
       "    </tr>\n",
       "  </thead>\n",
       "  <tbody>\n",
       "    <tr>\n",
       "      <th>0</th>\n",
       "      <td>1</td>\n",
       "    </tr>\n",
       "    <tr>\n",
       "      <th>1</th>\n",
       "      <td>1</td>\n",
       "    </tr>\n",
       "    <tr>\n",
       "      <th>2</th>\n",
       "      <td>1</td>\n",
       "    </tr>\n",
       "    <tr>\n",
       "      <th>3</th>\n",
       "      <td>1</td>\n",
       "    </tr>\n",
       "    <tr>\n",
       "      <th>4</th>\n",
       "      <td>1</td>\n",
       "    </tr>\n",
       "    <tr>\n",
       "      <th>...</th>\n",
       "      <td>...</td>\n",
       "    </tr>\n",
       "    <tr>\n",
       "      <th>395</th>\n",
       "      <td>0</td>\n",
       "    </tr>\n",
       "    <tr>\n",
       "      <th>396</th>\n",
       "      <td>0</td>\n",
       "    </tr>\n",
       "    <tr>\n",
       "      <th>397</th>\n",
       "      <td>0</td>\n",
       "    </tr>\n",
       "    <tr>\n",
       "      <th>398</th>\n",
       "      <td>0</td>\n",
       "    </tr>\n",
       "    <tr>\n",
       "      <th>399</th>\n",
       "      <td>0</td>\n",
       "    </tr>\n",
       "  </tbody>\n",
       "</table>\n",
       "<p>500 rows × 1 columns</p>\n",
       "</div>"
      ],
      "text/plain": [
       "     label\n",
       "0        1\n",
       "1        1\n",
       "2        1\n",
       "3        1\n",
       "4        1\n",
       "..     ...\n",
       "395      0\n",
       "396      0\n",
       "397      0\n",
       "398      0\n",
       "399      0\n",
       "\n",
       "[500 rows x 1 columns]"
      ]
     },
     "execution_count": 22,
     "metadata": {},
     "output_type": "execute_result"
    }
   ],
   "source": [
    "y_set2 #= pd.concat([y_set1[:400], y_set2])"
   ]
  },
  {
   "cell_type": "code",
   "execution_count": 23,
   "id": "5c73fba9",
   "metadata": {
    "scrolled": false
   },
   "outputs": [
    {
     "data": {
      "text/html": [
       "<div>\n",
       "<style scoped>\n",
       "    .dataframe tbody tr th:only-of-type {\n",
       "        vertical-align: middle;\n",
       "    }\n",
       "\n",
       "    .dataframe tbody tr th {\n",
       "        vertical-align: top;\n",
       "    }\n",
       "\n",
       "    .dataframe thead th {\n",
       "        text-align: right;\n",
       "    }\n",
       "</style>\n",
       "<table border=\"1\" class=\"dataframe\">\n",
       "  <thead>\n",
       "    <tr style=\"text-align: right;\">\n",
       "      <th></th>\n",
       "      <th>txt</th>\n",
       "      <th>prompt</th>\n",
       "      <th>prompt_len</th>\n",
       "      <th>txt_len</th>\n",
       "    </tr>\n",
       "  </thead>\n",
       "  <tbody>\n",
       "    <tr>\n",
       "      <th>0</th>\n",
       "      <td>[55, 1497, 3396, 3860, 85, 1624, 1486, 1525, 5...</td>\n",
       "      <td>[47, 2328, 1484, 1737, 36, 37, 4609, 1772, 157...</td>\n",
       "      <td>64</td>\n",
       "      <td>565</td>\n",
       "    </tr>\n",
       "    <tr>\n",
       "      <th>1</th>\n",
       "      <td>[36, 2318, 42, 50, 51, 3717, 2493, 42, 72, 409...</td>\n",
       "      <td>[58, 36, 54, 43, 44, 49, 42, 55, 50, 49, 1737,...</td>\n",
       "      <td>78</td>\n",
       "      <td>1218</td>\n",
       "    </tr>\n",
       "    <tr>\n",
       "      <th>2</th>\n",
       "      <td>[54, 1540, 1589, 1500, 44, 3882, 1705, 1478, 1...</td>\n",
       "      <td>[39, 82, 93, 1943, 1500, 1481, 2140, 2389, 147...</td>\n",
       "      <td>52</td>\n",
       "      <td>628</td>\n",
       "    </tr>\n",
       "    <tr>\n",
       "      <th>3</th>\n",
       "      <td>[36, 86, 68, 3273, 1936, 15, 1479, 56, 17, 54,...</td>\n",
       "      <td>[1737, 51, 1489, 81, 54, 87, 1643, 56, 2462, 2...</td>\n",
       "      <td>59</td>\n",
       "      <td>1088</td>\n",
       "    </tr>\n",
       "    <tr>\n",
       "      <th>4</th>\n",
       "      <td>[44, 87, 1515, 1479, 1510, 1564, 1480, 51, 148...</td>\n",
       "      <td>[1737, 51, 1647, 1705, 1480, 3486, 2318, 1500,...</td>\n",
       "      <td>72</td>\n",
       "      <td>732</td>\n",
       "    </tr>\n",
       "    <tr>\n",
       "      <th>...</th>\n",
       "      <td>...</td>\n",
       "      <td>...</td>\n",
       "      <td>...</td>\n",
       "      <td>...</td>\n",
       "    </tr>\n",
       "    <tr>\n",
       "      <th>395</th>\n",
       "      <td>[55, 1497, 70, 1693, 2159, 1500, 51, 1481, 214...</td>\n",
       "      <td>[52, 88, 76, 1485, 15, 40, 2349, 1508, 1494, 1...</td>\n",
       "      <td>40</td>\n",
       "      <td>1168</td>\n",
       "    </tr>\n",
       "    <tr>\n",
       "      <th>396</th>\n",
       "      <td>[55, 1497, 2949, 2660, 4578, 1589, 4644, 1568,...</td>\n",
       "      <td>[1737, 54, 76, 91, 38, 75, 1714, 1504, 38, 171...</td>\n",
       "      <td>70</td>\n",
       "      <td>713</td>\n",
       "    </tr>\n",
       "    <tr>\n",
       "      <th>397</th>\n",
       "      <td>[44, 87, 10, 86, 1536, 4361, 2960, 2166, 3237,...</td>\n",
       "      <td>[58, 1984, 1488, 2298, 1737, 58, 3365, 1479, 2...</td>\n",
       "      <td>57</td>\n",
       "      <td>916</td>\n",
       "    </tr>\n",
       "    <tr>\n",
       "      <th>398</th>\n",
       "      <td>[55, 75, 1480, 1977, 1533, 2351, 2929, 1495, 1...</td>\n",
       "      <td>[11, 48, 1490, 1539, 1747, 12, 1737, 39, 1514,...</td>\n",
       "      <td>44</td>\n",
       "      <td>705</td>\n",
       "    </tr>\n",
       "    <tr>\n",
       "      <th>399</th>\n",
       "      <td>[56, 81, 1570, 1542, 1947, 83, 1530, 1962, 156...</td>\n",
       "      <td>[1737, 41, 1494, 1538, 2607, 1628, 1478, 54, 1...</td>\n",
       "      <td>42</td>\n",
       "      <td>323</td>\n",
       "    </tr>\n",
       "  </tbody>\n",
       "</table>\n",
       "<p>500 rows × 4 columns</p>\n",
       "</div>"
      ],
      "text/plain": [
       "                                                   txt  \\\n",
       "0    [55, 1497, 3396, 3860, 85, 1624, 1486, 1525, 5...   \n",
       "1    [36, 2318, 42, 50, 51, 3717, 2493, 42, 72, 409...   \n",
       "2    [54, 1540, 1589, 1500, 44, 3882, 1705, 1478, 1...   \n",
       "3    [36, 86, 68, 3273, 1936, 15, 1479, 56, 17, 54,...   \n",
       "4    [44, 87, 1515, 1479, 1510, 1564, 1480, 51, 148...   \n",
       "..                                                 ...   \n",
       "395  [55, 1497, 70, 1693, 2159, 1500, 51, 1481, 214...   \n",
       "396  [55, 1497, 2949, 2660, 4578, 1589, 4644, 1568,...   \n",
       "397  [44, 87, 10, 86, 1536, 4361, 2960, 2166, 3237,...   \n",
       "398  [55, 75, 1480, 1977, 1533, 2351, 2929, 1495, 1...   \n",
       "399  [56, 81, 1570, 1542, 1947, 83, 1530, 1962, 156...   \n",
       "\n",
       "                                                prompt  prompt_len  txt_len  \n",
       "0    [47, 2328, 1484, 1737, 36, 37, 4609, 1772, 157...          64      565  \n",
       "1    [58, 36, 54, 43, 44, 49, 42, 55, 50, 49, 1737,...          78     1218  \n",
       "2    [39, 82, 93, 1943, 1500, 1481, 2140, 2389, 147...          52      628  \n",
       "3    [1737, 51, 1489, 81, 54, 87, 1643, 56, 2462, 2...          59     1088  \n",
       "4    [1737, 51, 1647, 1705, 1480, 3486, 2318, 1500,...          72      732  \n",
       "..                                                 ...         ...      ...  \n",
       "395  [52, 88, 76, 1485, 15, 40, 2349, 1508, 1494, 1...          40     1168  \n",
       "396  [1737, 54, 76, 91, 38, 75, 1714, 1504, 38, 171...          70      713  \n",
       "397  [58, 1984, 1488, 2298, 1737, 58, 3365, 1479, 2...          57      916  \n",
       "398  [11, 48, 1490, 1539, 1747, 12, 1737, 39, 1514,...          44      705  \n",
       "399  [1737, 41, 1494, 1538, 2607, 1628, 1478, 54, 1...          42      323  \n",
       "\n",
       "[500 rows x 4 columns]"
      ]
     },
     "execution_count": 23,
     "metadata": {},
     "output_type": "execute_result"
    }
   ],
   "source": [
    "x_set2"
   ]
  },
  {
   "cell_type": "code",
   "execution_count": 24,
   "id": "d319780c",
   "metadata": {},
   "outputs": [
    {
     "data": {
      "text/html": [
       "<div>\n",
       "<style scoped>\n",
       "    .dataframe tbody tr th:only-of-type {\n",
       "        vertical-align: middle;\n",
       "    }\n",
       "\n",
       "    .dataframe tbody tr th {\n",
       "        vertical-align: top;\n",
       "    }\n",
       "\n",
       "    .dataframe thead th {\n",
       "        text-align: right;\n",
       "    }\n",
       "</style>\n",
       "<table border=\"1\" class=\"dataframe\">\n",
       "  <thead>\n",
       "    <tr style=\"text-align: right;\">\n",
       "      <th></th>\n",
       "      <th>label</th>\n",
       "    </tr>\n",
       "  </thead>\n",
       "  <tbody>\n",
       "    <tr>\n",
       "      <th>0</th>\n",
       "      <td>1</td>\n",
       "    </tr>\n",
       "    <tr>\n",
       "      <th>1</th>\n",
       "      <td>1</td>\n",
       "    </tr>\n",
       "    <tr>\n",
       "      <th>2</th>\n",
       "      <td>1</td>\n",
       "    </tr>\n",
       "    <tr>\n",
       "      <th>3</th>\n",
       "      <td>1</td>\n",
       "    </tr>\n",
       "    <tr>\n",
       "      <th>4</th>\n",
       "      <td>1</td>\n",
       "    </tr>\n",
       "    <tr>\n",
       "      <th>...</th>\n",
       "      <td>...</td>\n",
       "    </tr>\n",
       "    <tr>\n",
       "      <th>395</th>\n",
       "      <td>0</td>\n",
       "    </tr>\n",
       "    <tr>\n",
       "      <th>396</th>\n",
       "      <td>0</td>\n",
       "    </tr>\n",
       "    <tr>\n",
       "      <th>397</th>\n",
       "      <td>0</td>\n",
       "    </tr>\n",
       "    <tr>\n",
       "      <th>398</th>\n",
       "      <td>0</td>\n",
       "    </tr>\n",
       "    <tr>\n",
       "      <th>399</th>\n",
       "      <td>0</td>\n",
       "    </tr>\n",
       "  </tbody>\n",
       "</table>\n",
       "<p>500 rows × 1 columns</p>\n",
       "</div>"
      ],
      "text/plain": [
       "     label\n",
       "0        1\n",
       "1        1\n",
       "2        1\n",
       "3        1\n",
       "4        1\n",
       "..     ...\n",
       "395      0\n",
       "396      0\n",
       "397      0\n",
       "398      0\n",
       "399      0\n",
       "\n",
       "[500 rows x 1 columns]"
      ]
     },
     "execution_count": 24,
     "metadata": {},
     "output_type": "execute_result"
    }
   ],
   "source": [
    "y_set2"
   ]
  },
  {
   "cell_type": "code",
   "execution_count": 25,
   "id": "b09cd262",
   "metadata": {},
   "outputs": [],
   "source": [
    "second_test = set_test[600:]"
   ]
  },
  {
   "cell_type": "code",
   "execution_count": 26,
   "id": "8d4c1a92",
   "metadata": {},
   "outputs": [],
   "source": [
    "vocab_2 = x_set2['txt'].tolist() + second_test['txt'].tolist()\n",
    "\n",
    "model = Word2Vec(sentences=vocab_2, vector_size=100, window=5, min_count=1, workers=4)\n",
    "model.save(\"word2vec2.model\")"
   ]
  },
  {
   "cell_type": "code",
   "execution_count": 27,
   "id": "6a64e495",
   "metadata": {},
   "outputs": [],
   "source": [
    "w2v_model =  gensim.models.Word2Vec.load(\"word2vec2.model\").wv\n",
    "\n",
    "x_text_2 = x_set2['txt']\n",
    "\n",
    "x_text_2_vec = []\n",
    "for sentence in x_text_2:\n",
    "    sentence_vec = []\n",
    "    \n",
    "    for word in sentence[:200]:\n",
    "        sentence_vec.append(w2v_model[word])\n",
    "    x_text_2_vec.append(np.mean(sentence_vec, axis=0))\n",
    "x_text_2_vec = np.array(x_text_2_vec)\n",
    "\n",
    "txt_len = np.expand_dims(x_set2['txt_len'].values , axis=1)\n",
    "\n",
    "x_set = np.concatenate((x_text_2_vec, txt_len), axis=1)"
   ]
  },
  {
   "cell_type": "code",
   "execution_count": 28,
   "id": "af89bbf0",
   "metadata": {},
   "outputs": [],
   "source": [
    "x_train, x_test, y_train, y_test= train_test_split(x_set, y_set2, test_size=0.2, stratify=y_set2)"
   ]
  },
  {
   "cell_type": "code",
   "execution_count": 29,
   "id": "5ea30ce0",
   "metadata": {},
   "outputs": [],
   "source": [
    "from imblearn.over_sampling import RandomOverSampler\n",
    "\n",
    "# define the oversampling strategy\n",
    "oversample = RandomOverSampler(sampling_strategy='minority')\n",
    "\n",
    "# fit and apply the transform\n",
    "x_train_over, y_train_over = oversample.fit_resample(x_train, y_train)\n"
   ]
  },
  {
   "cell_type": "code",
   "execution_count": 30,
   "id": "8fcaa071",
   "metadata": {},
   "outputs": [],
   "source": [
    "from imblearn.under_sampling import RandomUnderSampler\n",
    "\n",
    "# define the undersampling strategy\n",
    "undersample = RandomUnderSampler(sampling_strategy='majority')\n",
    "\n",
    "# fit and apply the transform\n",
    "X_train_under, y_train_under = undersample.fit_resample(x_train, y_train)\n"
   ]
  },
  {
   "cell_type": "code",
   "execution_count": 31,
   "id": "f6502890",
   "metadata": {},
   "outputs": [
    {
     "name": "stdout",
     "output_type": "stream",
     "text": [
      "              precision    recall  f1-score   support\n",
      "\n",
      "           0       0.66      0.84      0.74        63\n",
      "           1       0.50      0.27      0.35        37\n",
      "\n",
      "    accuracy                           0.63       100\n",
      "   macro avg       0.58      0.56      0.55       100\n",
      "weighted avg       0.60      0.63      0.60       100\n",
      "\n"
     ]
    },
    {
     "name": "stderr",
     "output_type": "stream",
     "text": [
      "C:\\Users\\User\\anaconda3\\lib\\site-packages\\sklearn\\utils\\validation.py:63: DataConversionWarning: A column-vector y was passed when a 1d array was expected. Please change the shape of y to (n_samples, ), for example using ravel().\n",
      "  return f(*args, **kwargs)\n"
     ]
    }
   ],
   "source": [
    "clf = LogisticRegression(max_iter=1000, C=1)\n",
    "clf.fit(x_train_over, y_train_over)\n",
    "\n",
    "y_pred = clf.predict(x_test)\n",
    "accuracy = accuracy_score(y_test, y_pred)\n",
    "print(classification_report(y_pred, y_test))"
   ]
  },
  {
   "cell_type": "code",
   "execution_count": 32,
   "id": "50bdd2a0",
   "metadata": {},
   "outputs": [
    {
     "data": {
      "image/png": "[encoded data removed]",
      "text/plain": [
       "<Figure size 432x288 with 2 Axes>"
      ]
     },
     "metadata": {
      "needs_background": "light"
     },
     "output_type": "display_data"
    }
   ],
   "source": [
    "cm_display = metrics.ConfusionMatrixDisplay(confusion_matrix = confusion_matrix(y_test, y_pred))\n",
    "cm_display.plot();"
   ]
  },
  {
   "cell_type": "code",
   "execution_count": 33,
   "id": "94814f98",
   "metadata": {},
   "outputs": [
    {
     "name": "stdout",
     "output_type": "stream",
     "text": [
      "[LightGBM] [Warning] feature_fraction is set=0.9, colsample_bytree=1.0 will be ignored. Current value: feature_fraction=0.9\n",
      "[LightGBM] [Warning] bagging_fraction is set=0.8, subsample=1.0 will be ignored. Current value: bagging_fraction=0.8\n",
      "[LightGBM] [Warning] bagging_freq is set=5, subsample_freq=0 will be ignored. Current value: bagging_freq=5\n",
      "[LightGBM] [Warning] feature_fraction is set=0.9, colsample_bytree=1.0 will be ignored. Current value: feature_fraction=0.9\n",
      "[LightGBM] [Warning] bagging_fraction is set=0.8, subsample=1.0 will be ignored. Current value: bagging_fraction=0.8\n",
      "[LightGBM] [Warning] bagging_freq is set=5, subsample_freq=0 will be ignored. Current value: bagging_freq=5\n",
      "[LightGBM] [Warning] Auto-choosing col-wise multi-threading, the overhead of testing was 0.001854 seconds.\n",
      "You can set `force_col_wise=true` to remove the overhead.\n",
      "              precision    recall  f1-score   support\n",
      "\n",
      "           0       0.69      0.82      0.75        67\n",
      "           1       0.40      0.24      0.30        33\n",
      "\n",
      "    accuracy                           0.63       100\n",
      "   macro avg       0.54      0.53      0.53       100\n",
      "weighted avg       0.59      0.63      0.60       100\n",
      "\n"
     ]
    },
    {
     "name": "stderr",
     "output_type": "stream",
     "text": [
      "C:\\Users\\User\\anaconda3\\lib\\site-packages\\sklearn\\utils\\validation.py:63: DataConversionWarning: A column-vector y was passed when a 1d array was expected. Please change the shape of y to (n_samples, ), for example using ravel().\n",
      "  return f(*args, **kwargs)\n"
     ]
    }
   ],
   "source": [
    "import lightgbm as lgb\n",
    "\n",
    "params = {\n",
    "    'boosting_type': 'rf',\n",
    "    'objective': 'binary',\n",
    "    'metric': 'auc',\n",
    "    'num_leaves': 10,\n",
    "    'learning_rate': 0.001,\n",
    "    'feature_fraction': 0.9,\n",
    "    'bagging_fraction': 0.8,\n",
    "    'bagging_freq': 5,\n",
    "    'verbose': 0,\n",
    "    'random_state': 42,\n",
    "    'path_smooth': 2\n",
    "}\n",
    "\n",
    "lgb_clf = lgb.LGBMClassifier(**params)\n",
    "lgb_clf.fit(x_train_over, y_train_over)\n",
    "\n",
    "y_pred = lgb_clf.predict(x_test)\n",
    "\n",
    "print(classification_report(y_pred, y_test))"
   ]
  },
  {
   "cell_type": "code",
   "execution_count": 34,
   "id": "aa79989c",
   "metadata": {},
   "outputs": [
    {
     "name": "stdout",
     "output_type": "stream",
     "text": [
      "              precision    recall  f1-score   support\n",
      "\n",
      "           0       0.72      0.78      0.75        74\n",
      "           1       0.20      0.15      0.17        26\n",
      "\n",
      "    accuracy                           0.62       100\n",
      "   macro avg       0.46      0.47      0.46       100\n",
      "weighted avg       0.59      0.62      0.60       100\n",
      "\n"
     ]
    }
   ],
   "source": [
    "from sklearn import tree\n",
    "dt_clf = tree.DecisionTreeClassifier()\n",
    "dt_clf.fit(x_train_over, y_train_over)\n",
    "\n",
    "y_pred = dt_clf.predict(x_test)\n",
    "\n",
    "print(classification_report(y_pred, y_test))"
   ]
  },
  {
   "cell_type": "code",
   "execution_count": 35,
   "id": "6b8c8402",
   "metadata": {},
   "outputs": [
    {
     "name": "stderr",
     "output_type": "stream",
     "text": [
      "C:\\Users\\User\\AppData\\Local\\Temp/ipykernel_1592/3956096115.py:4: DataConversionWarning: A column-vector y was passed when a 1d array was expected. Please change the shape of y to (n_samples,), for example using ravel().\n",
      "  rf_clf.fit(x_train_over, y_train_over)\n"
     ]
    },
    {
     "name": "stdout",
     "output_type": "stream",
     "text": [
      "              precision    recall  f1-score   support\n",
      "\n",
      "           0       0.60      0.83      0.70        58\n",
      "           1       0.50      0.24      0.32        42\n",
      "\n",
      "    accuracy                           0.58       100\n",
      "   macro avg       0.55      0.53      0.51       100\n",
      "weighted avg       0.56      0.58      0.54       100\n",
      "\n"
     ]
    },
    {
     "data": {
      "image/png": "[encoded data removed]",
      "text/plain": [
       "<Figure size 432x288 with 2 Axes>"
      ]
     },
     "metadata": {
      "needs_background": "light"
     },
     "output_type": "display_data"
    }
   ],
   "source": [
    "from sklearn.ensemble import RandomForestClassifier\n",
    "\n",
    "rf_clf = RandomForestClassifier(max_depth=2, random_state=0)\n",
    "rf_clf.fit(x_train_over, y_train_over)\n",
    "\n",
    "y_pred = rf_clf.predict(x_test)\n",
    "\n",
    "print(classification_report(y_pred, y_test))\n",
    "\n",
    "cm_display = metrics.ConfusionMatrixDisplay(confusion_matrix = confusion_matrix(y_test, y_pred))\n",
    "cm_display.plot();"
   ]
  },
  {
   "cell_type": "code",
   "execution_count": 36,
   "id": "d6598318",
   "metadata": {},
   "outputs": [
    {
     "name": "stderr",
     "output_type": "stream",
     "text": [
      "C:\\Users\\User\\anaconda3\\lib\\site-packages\\sklearn\\utils\\validation.py:63: DataConversionWarning: A column-vector y was passed when a 1d array was expected. Please change the shape of y to (n_samples, ), for example using ravel().\n",
      "  return f(*args, **kwargs)\n"
     ]
    },
    {
     "name": "stdout",
     "output_type": "stream",
     "text": [
      "              precision    recall  f1-score   support\n",
      "\n",
      "           0       0.97      0.80      0.88        98\n",
      "           1       0.00      0.00      0.00         2\n",
      "\n",
      "    accuracy                           0.78       100\n",
      "   macro avg       0.49      0.40      0.44       100\n",
      "weighted avg       0.96      0.78      0.86       100\n",
      "\n"
     ]
    },
    {
     "data": {
      "image/png": "[encoded data removed]",
      "text/plain": [
       "<Figure size 432x288 with 2 Axes>"
      ]
     },
     "metadata": {
      "needs_background": "light"
     },
     "output_type": "display_data"
    }
   ],
   "source": [
    "from sklearn.ensemble import StackingClassifier\n",
    "\n",
    "estimators = [('rf', RandomForestClassifier(n_estimators=10, random_state=42)),\n",
    "              ('lgs', LogisticRegression(max_iter=1000, C=1))              \n",
    "             ]\n",
    "stacking_clf = StackingClassifier(estimators=estimators, final_estimator=LogisticRegression(max_iter=1000))\n",
    "stacking_clf.fit(x_train_over, y_train_over)\n",
    "\n",
    "y_pred = stacking_clf.predict(x_test)\n",
    "print(classification_report(y_pred, y_test))\n",
    "\n",
    "cm_display = metrics.ConfusionMatrixDisplay(confusion_matrix = confusion_matrix(y_test, y_pred))\n",
    "cm_display.plot();"
   ]
  },
  {
   "cell_type": "code",
   "execution_count": 37,
   "id": "4e8e26b3",
   "metadata": {},
   "outputs": [],
   "source": [
    "test_text = second_test['txt']\n",
    "\n",
    "test_text_vec = []\n",
    "for sentence in test_text:\n",
    "    sentence_vec = []\n",
    "    \n",
    "    for word in sentence[:200]:\n",
    "        sentence_vec.append(w2v_model[word])\n",
    "    test_text_vec.append(np.mean(sentence_vec, axis=0))\n",
    "test_text_vec = np.array(test_text_vec)\n",
    "\n",
    "test_txt_len = np.expand_dims(second_test['txt_len'].values, axis=1)\n",
    "\n",
    "test_vec = np.concatenate((test_text_vec, test_txt_len), axis=1)"
   ]
  },
  {
   "cell_type": "code",
   "execution_count": 38,
   "id": "e8ef0200",
   "metadata": {},
   "outputs": [
    {
     "name": "stderr",
     "output_type": "stream",
     "text": [
      "C:\\Users\\User\\anaconda3\\lib\\site-packages\\sklearn\\utils\\validation.py:63: DataConversionWarning: A column-vector y was passed when a 1d array was expected. Please change the shape of y to (n_samples, ), for example using ravel().\n",
      "  return f(*args, **kwargs)\n"
     ]
    },
    {
     "name": "stdout",
     "output_type": "stream",
     "text": [
      "Iteration 0 - Error: 0.4294\n",
      "Iteration 1 - Error: 0.4541\n",
      "Iteration 2 - Error: 0.4683\n",
      "Iteration 3 - Error: 0.4688\n",
      "Iteration 4 - Error: 0.4639\n",
      "Iteration 5 - Error: 0.4624\n",
      "Iteration 6 - Error: 0.4656\n",
      "Iteration 7 - Error: 0.4706\n",
      "Iteration 8 - Error: 0.4750\n",
      "Iteration 9 - Error: 0.4773\n",
      "              precision    recall  f1-score   support\n",
      "\n",
      "           0       0.72      0.78      0.75        74\n",
      "           1       0.20      0.15      0.17        26\n",
      "\n",
      "    accuracy                           0.62       100\n",
      "   macro avg       0.46      0.47      0.46       100\n",
      "weighted avg       0.59      0.62      0.60       100\n",
      "\n"
     ]
    },
    {
     "data": {
      "image/png": "[encoded data removed]",
      "text/plain": [
       "<Figure size 432x288 with 2 Axes>"
      ]
     },
     "metadata": {
      "needs_background": "light"
     },
     "output_type": "display_data"
    }
   ],
   "source": [
    "from sklearn.linear_model import RidgeClassifier\n",
    "from adapt.instance_based import TrAdaBoost\n",
    "\n",
    "model = TrAdaBoost(RidgeClassifier(), n_estimators=10, Xt=x_train, yt=y_train, random_state=0)\n",
    "model.fit(x_train_set_1, y_train_set_1)\n",
    "\n",
    "y_pred = model.predict(x_test)\n",
    "print(classification_report(y_pred, y_test))\n",
    "\n",
    "cm_display = metrics.ConfusionMatrixDisplay(confusion_matrix = confusion_matrix(y_test, y_pred))\n",
    "cm_display.plot();"
   ]
  },
  {
   "cell_type": "code",
   "execution_count": 39,
   "id": "4c538792",
   "metadata": {},
   "outputs": [],
   "source": [
    "second_pred = clf.predict(test_vec)"
   ]
  },
  {
   "cell_type": "code",
   "execution_count": 40,
   "id": "86b68da7",
   "metadata": {},
   "outputs": [
    {
     "data": {
      "text/plain": [
       "array([0, 0, 0, 0, 0, 0, 0, 1, 0, 1, 0, 1, 1, 0, 0, 1, 1, 1, 0, 1, 1, 0,\n",
       "       1, 1, 0, 1, 0, 0, 1, 0, 0, 0, 0, 1, 1, 0, 0, 1, 0, 0, 0, 0, 1, 1,\n",
       "       1, 0, 1, 1, 0, 0, 0, 0, 1, 0, 0, 1, 0, 0, 1, 0, 0, 0, 0, 1, 0, 0,\n",
       "       0, 1, 0, 0, 0, 0, 1, 1, 0, 0, 0, 0, 1, 1, 1, 0, 0, 0, 1, 0, 0, 1,\n",
       "       0, 0, 0, 0, 0, 1, 0, 1, 1, 1, 0, 1, 0, 1, 0, 0, 1, 0, 0, 0, 1, 0,\n",
       "       0, 1, 1, 1, 0, 0, 1, 1, 1, 1, 1, 0, 0, 0, 0, 0, 1, 0, 1, 0, 0, 1,\n",
       "       0, 1, 0, 0, 1, 0, 0, 0, 1, 1, 1, 1, 0, 1, 0, 1, 1, 0, 1, 0, 1, 0,\n",
       "       0, 1, 0, 1, 1, 1, 0, 1, 0, 1, 1, 0, 0, 0, 0, 0, 1, 1, 1, 0, 0, 0,\n",
       "       0, 1, 1, 1, 1, 0, 0, 1, 1, 0, 1, 0, 0, 0, 1, 0, 1, 0, 0, 1, 0, 0,\n",
       "       1, 0, 1, 0, 1, 1, 0, 0, 1, 0, 1, 1, 0, 0, 1, 0, 0, 0, 0, 1, 0, 0,\n",
       "       1, 0, 1, 0, 1, 0, 1, 0, 0, 0, 1, 0, 1, 1, 1, 0, 1, 0, 0, 0, 1, 1,\n",
       "       0, 1, 0, 1, 0, 1, 1, 1, 0, 1, 1, 1, 1, 0, 0, 1, 1, 0, 0, 0, 1, 1,\n",
       "       1, 0, 1, 1, 0, 0, 1, 1, 1, 0, 0, 0, 0, 0, 0, 1, 0, 0, 1, 0, 0, 1,\n",
       "       0, 1, 1, 1, 0, 0, 1, 0, 1, 0, 0, 0, 0, 1, 0, 0, 1, 1, 0, 0, 1, 0,\n",
       "       0, 0, 1, 1, 1, 0, 0, 1, 0, 1, 0, 0, 0, 0, 1, 0, 1, 0, 1, 0, 0, 0,\n",
       "       1, 0, 0, 0, 1, 1, 0, 1, 0, 1, 1, 1, 0, 0, 0, 1, 0, 0, 0, 0, 1, 1,\n",
       "       0, 0, 1, 1, 1, 1, 1, 0, 1, 0, 1, 1, 0, 1, 0, 0, 0, 1, 0, 1, 0, 1,\n",
       "       1, 1, 1, 0, 0, 0, 0, 1, 0, 1, 0, 0, 0, 0, 1, 0, 0, 1, 1, 0, 0, 0,\n",
       "       0, 0, 0, 1], dtype=int64)"
      ]
     },
     "execution_count": 40,
     "metadata": {},
     "output_type": "execute_result"
    }
   ],
   "source": [
    "second_pred"
   ]
  },
  {
   "cell_type": "code",
   "execution_count": 41,
   "id": "68b96d69",
   "metadata": {},
   "outputs": [
    {
     "data": {
      "text/plain": [
       "array([0, 0, 0, 0, 0, 0, 0, 0, 0, 0, 0, 0, 0, 0, 0, 0, 1, 0, 1, 0, 0, 0,\n",
       "       0, 0, 0, 0, 0, 1, 0, 1, 1, 0, 0, 0, 1, 1, 0, 0, 1, 0, 1, 0, 1, 0,\n",
       "       1, 1, 0, 1, 0, 0, 0, 1, 0, 1, 1, 1, 1, 0, 1, 0, 0, 1, 0, 0, 0, 1,\n",
       "       1, 0, 0, 0, 0, 0, 0, 0, 0, 0, 0, 0, 0, 0, 1, 0, 1, 0, 0, 1, 0, 0,\n",
       "       0, 1, 0, 1, 0, 0, 0, 1, 0, 0, 0, 0, 0, 1, 0, 0, 0, 0, 0, 1, 1, 1,\n",
       "       0, 0, 0, 0, 0, 0, 0, 0, 0, 0, 1, 0, 0, 1, 0, 0, 0, 1, 0, 1, 0, 0,\n",
       "       0, 0, 0, 0, 0, 1, 0, 1, 0, 0, 0, 1, 0, 1, 0, 0, 0, 0, 0, 0, 0, 0,\n",
       "       0, 0, 0, 1, 1, 0, 0, 0, 1, 0, 0, 0, 0, 0, 0, 1, 1, 1, 0, 0, 0, 0,\n",
       "       0, 1, 0, 0, 0, 0, 0, 1, 1, 0, 0, 0, 0, 1, 0, 1, 0, 1, 0, 1, 1, 0,\n",
       "       0, 0, 0, 0, 0, 0, 1, 0, 1, 0, 0, 0, 0, 0, 1, 0, 0, 1, 1, 0, 0, 0,\n",
       "       0, 0, 0, 0, 0, 0, 0, 1, 1, 1, 0, 0, 0, 1, 1, 0, 0, 0, 0, 0, 0, 0,\n",
       "       0, 0, 0, 0, 0, 0, 1, 0, 1, 1, 0, 1, 1, 1, 0, 0, 0, 0, 1, 0, 0, 1,\n",
       "       0, 0, 0, 1, 1, 0, 1, 1, 1, 0, 0, 0, 0, 0, 1, 0, 0, 0, 1, 1, 0, 0,\n",
       "       0, 1, 1, 1, 1, 0, 0, 1, 1, 1, 0, 1, 0, 0, 0, 0, 1, 0, 0, 0, 0, 0,\n",
       "       1, 1, 1, 0, 0, 0, 1, 1, 0, 0, 1, 0, 0, 0, 0, 0, 1, 0, 1, 0, 0, 0,\n",
       "       1, 1, 0, 0, 1, 0, 1, 0, 1, 1, 0, 0, 0, 0, 0, 0, 1, 1, 1, 0, 0, 0,\n",
       "       0, 0, 0, 0, 0, 0, 1, 0, 0, 0, 0, 1, 0, 1, 0, 0, 0, 0, 0, 1, 0, 0,\n",
       "       1, 1, 0, 0, 0, 0, 0, 1, 1, 0, 0, 0, 0, 0, 1, 0, 1, 0, 0, 0, 0, 1,\n",
       "       0, 0, 1, 0, 1, 0, 0, 0, 1, 1, 1, 0, 0, 0, 1, 0, 0, 0, 1, 0, 0, 1,\n",
       "       0, 1, 0, 0, 0, 0, 0, 1, 0, 1, 0, 0, 0, 1, 0, 0, 0, 0, 0, 0, 0, 0,\n",
       "       1, 0, 0, 0, 1, 0, 0, 0, 0, 0, 0, 0, 0, 0, 1, 0, 0, 0, 0, 1, 1, 0,\n",
       "       0, 1, 0, 0, 1, 1, 0, 0, 0, 1, 1, 0, 0, 1, 0, 0, 0, 0, 0, 0, 1, 0,\n",
       "       0, 0, 1, 0, 1, 0, 0, 0, 0, 1, 0, 0, 1, 0, 1, 1, 0, 0, 0, 0, 0, 0,\n",
       "       0, 1, 0, 0, 0, 1, 0, 1, 0, 0, 0, 0, 1, 0, 0, 0, 0, 0, 0, 0, 0, 0,\n",
       "       1, 1, 0, 0, 0, 1, 0, 0, 0, 1, 0, 0, 0, 0, 0, 1, 0, 0, 0, 0, 1, 1,\n",
       "       0, 1, 0, 0, 1, 0, 0, 0, 0, 0, 0, 0, 1, 0, 0, 0, 0, 0, 0, 1, 0, 0,\n",
       "       0, 1, 0, 0, 0, 1, 0, 1, 0, 0, 0, 0, 0, 0, 1, 1, 0, 0, 0, 0, 0, 1,\n",
       "       0, 1, 0, 0, 0, 0], dtype=int64)"
      ]
     },
     "execution_count": 41,
     "metadata": {},
     "output_type": "execute_result"
    }
   ],
   "source": [
    "first_pred"
   ]
  },
  {
   "cell_type": "code",
   "execution_count": 42,
   "id": "4798c20d",
   "metadata": {},
   "outputs": [],
   "source": [
    "df = pd.DataFrame(list(first_pred) + list(second_pred), columns = ['Predicted'])"
   ]
  },
  {
   "cell_type": "code",
   "execution_count": null,
   "id": "51616773",
   "metadata": {},
   "outputs": [],
   "source": []
  },
  {
   "cell_type": "code",
   "execution_count": 43,
   "id": "e19b6ec9",
   "metadata": {},
   "outputs": [
    {
     "data": {
      "text/html": [
       "<div>\n",
       "<style scoped>\n",
       "    .dataframe tbody tr th:only-of-type {\n",
       "        vertical-align: middle;\n",
       "    }\n",
       "\n",
       "    .dataframe tbody tr th {\n",
       "        vertical-align: top;\n",
       "    }\n",
       "\n",
       "    .dataframe thead th {\n",
       "        text-align: right;\n",
       "    }\n",
       "</style>\n",
       "<table border=\"1\" class=\"dataframe\">\n",
       "  <thead>\n",
       "    <tr style=\"text-align: right;\">\n",
       "      <th></th>\n",
       "      <th>Predicted</th>\n",
       "    </tr>\n",
       "  </thead>\n",
       "  <tbody>\n",
       "    <tr>\n",
       "      <th>0</th>\n",
       "      <td>0</td>\n",
       "    </tr>\n",
       "    <tr>\n",
       "      <th>1</th>\n",
       "      <td>0</td>\n",
       "    </tr>\n",
       "    <tr>\n",
       "      <th>2</th>\n",
       "      <td>0</td>\n",
       "    </tr>\n",
       "    <tr>\n",
       "      <th>3</th>\n",
       "      <td>0</td>\n",
       "    </tr>\n",
       "    <tr>\n",
       "      <th>4</th>\n",
       "      <td>0</td>\n",
       "    </tr>\n",
       "    <tr>\n",
       "      <th>...</th>\n",
       "      <td>...</td>\n",
       "    </tr>\n",
       "    <tr>\n",
       "      <th>995</th>\n",
       "      <td>0</td>\n",
       "    </tr>\n",
       "    <tr>\n",
       "      <th>996</th>\n",
       "      <td>0</td>\n",
       "    </tr>\n",
       "    <tr>\n",
       "      <th>997</th>\n",
       "      <td>0</td>\n",
       "    </tr>\n",
       "    <tr>\n",
       "      <th>998</th>\n",
       "      <td>0</td>\n",
       "    </tr>\n",
       "    <tr>\n",
       "      <th>999</th>\n",
       "      <td>1</td>\n",
       "    </tr>\n",
       "  </tbody>\n",
       "</table>\n",
       "<p>1000 rows × 1 columns</p>\n",
       "</div>"
      ],
      "text/plain": [
       "     Predicted\n",
       "0            0\n",
       "1            0\n",
       "2            0\n",
       "3            0\n",
       "4            0\n",
       "..         ...\n",
       "995          0\n",
       "996          0\n",
       "997          0\n",
       "998          0\n",
       "999          1\n",
       "\n",
       "[1000 rows x 1 columns]"
      ]
     },
     "execution_count": 43,
     "metadata": {},
     "output_type": "execute_result"
    }
   ],
   "source": [
    "df"
   ]
  },
  {
   "cell_type": "code",
   "execution_count": 44,
   "id": "dc6b8ce4",
   "metadata": {},
   "outputs": [],
   "source": [
    "df.to_csv('out.csv')"
   ]
  },
  {
   "cell_type": "code",
   "execution_count": null,
   "id": "e25e0298",
   "metadata": {},
   "outputs": [],
   "source": []
  }
 ],
 "metadata": {
  "kernelspec": {
   "display_name": "Python 3 (ipykernel)",
   "language": "python",
   "name": "python3"
  },
  "language_info": {
   "codemirror_mode": {
    "name": "ipython",
    "version": 3
   },
   "file_extension": ".py",
   "mimetype": "text/x-python",
   "name": "python",
   "nbconvert_exporter": "python",
   "pygments_lexer": "ipython3",
   "version": "3.9.7"
  }
 },
 "nbformat": 4,
 "nbformat_minor": 5
}
